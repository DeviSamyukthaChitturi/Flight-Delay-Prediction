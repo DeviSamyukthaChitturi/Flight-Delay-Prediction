{
  "nbformat": 4,
  "nbformat_minor": 0,
  "metadata": {
    "colab": {
      "provenance": []
    },
    "kernelspec": {
      "name": "python3",
      "display_name": "Python 3"
    },
    "language_info": {
      "name": "python"
    }
  },
  "cells": [
    {
      "cell_type": "markdown",
      "source": [
        "<h1 style=\"text-align: center; font-size: 36px;\">\n",
        "  🛩️ Welcome aboard the Flight Delay Exploration Journey! 🌍✈️\n",
        "</h1>"
      ],
      "metadata": {
        "id": "7YPc0nPzwBMe"
      }
    },
    {
      "cell_type": "markdown",
      "source": [
        "![flight-delay-cancel-vector-flat-cartoon-illustration-tired-passengers-waiting-departure-airport-terminal-concept-157960351.jpg.webp](data:image/webp;base64,UklGRqJLAABXRUJQVlA4IJZLAABwXwGdASogAwsBPpFAmkolo64mptN7+cASCWNu1RMd3l6uG/TDy+pcdgHAy6tJB2r8d/P8//rR2i/A9N/+x49fB/9jz+OkfOT/3/Wf/Z/UO/rvRx8ynm0/+T1rf0/1E/6R/quuF/x3qbec3/8/3W+JL+55Hr6a/1Xpn80P1/Uge6/o3/g/Hjij+A/vv+j+M3qx/EX7T/Gfu/8dv7zv7+b/+16gv5j/RP9B/ePyK43IAX57/Zf+p6Vn1//J/MD3h+z3/k/w/wA/rf/2vLK8RD8T/5vYD/m/+A/6v+W94f/Q/+3+/9JH1/7Cf8//v/WZ/eP//+6r+1n//OcvHJN80mKnla1j/TghWuLUyWhUmp3ay7FaNz+t0pfwtheFljlqvPrr2AaFzDwWKH0z99sx15JnnN915r07IUCvhT3dQ6h7SjYp3WF8lW1Y/ubo+/WdYRW95txRDJnGkMi3uHZGPFnGBGt4e/Tdyk+6xE6QmBx/NWe80Yo5zaNeuH4aaxGu4IHlcz0w/DU5biZy7STLjwU0W98bQpywP+dwRw0O64LpaOhGMfd02Up579eu6klT8Jt91K+03PgHGuUX9SfEcGDmcVJXnJgU4a/TxBG6uVftkOhWlI4O0+72hJBCqifIcLp/O8yM8kHjCP33jqkbiyh3RBiCiUQkZcumeC4Ypl3eUCk748+d1QWN5PV3UglUC9UArE3IQkbMVLRnsGbTpZ3QvGFAr8W/FyyJ32WeCLWmEW0f8eKtNsWR7Lpw6RIr95VoTvRMDVugkjqWi4EminZ3zyhNtlznftxo2uZC0VW9N7GpINqOMTwqZSEKOeqY74EeRS6e2VD/0tC3S2OwrXvjQS3TKFhZ8erYc8cWrnWMlsNEWZtmRphTS2ExVUZRUzBlxLlx2HbA6ttJzjBtPhrSsAB4REBDnkyFCZw6pNZBxXm4y7htPNmvyP/eG/5nnPB6Ns+fW7ZYXS2XWuyAVgrkNH+rBP5aF42tgduwzwkm9gtpS5ti/KYZTu3YQdgea3uKvpVnyS5VEsQ6JDlbAmRSEMmwAQ1Z5laTJZd8vF7vajL36VVbT/2ZYzT+6Sl8UeNW6gBHlC9GGlHb0N5jY+T+Tr5aoCLIbjLSmFE+HVX8J4s6D2vLl+2cQRPrbgMhL5Fv+y6KZKHu2vQPMcIONzfCh5rpE4L+2UfGGRfWK67CxRfXzHEzozl/LK73RmsgKHK73Jx8T+u3EF84Yqf/DtsZOgAGVkuV9ZI4+nleQdw8svkiAaAtMJeopIQ+o9Fd4NOYfIRbhHYnXD0d1mMR0PT1xqlzzlfZJ9QDuNnT3odDpFscJFZuFsZwuFA2ONFu9I1/YW436V+bORMmVNu3IkdCbP/Oqy+nuuT8PGc9d4SRk6M/2vBVEvqn22ICiyffEByAitdN8SpsSGEPfB4FZ0rcaSVG4ths1RmNvwTnRuRQoLjJqqXFZ5UMoX9oe8Ha+8ZShniCB9JcOEkXjV+VPM8PivteTrIUZlJnYXNFy9b3v8uAYBuIbqVoYU1KaCPYTkoL+dyYXtIuCP+5L3aaCwo7mnilD796pbKyU7TirwXXUx4SoJZoZXeZ5FkM/GysJQ1YIHfOwcFq/frL3bblgGVsnRa+h477md8MUm5X/l23OgF1gVWXtJ0TareWGB8pYUxZtj/2IwA6Ikpmu06UPoeE7s8obcU/ofkScSHPRSkJkafLvu/qeJVa4+ZCD9JbUli27B9JPU6Cw0xdHiSW32zwGlZlJyaCRU79KS59I6eIh1ko9VmnEFPmcvWaXl2W90kK14jmVpcv5wNlJ76M1fLPsrCiRyzwvgrlWY+IDWjae/7WCEBwLAV3HBsay/cKKfUOWkErBkbo86h7cHJwE8wfnVzk8g0w4vQj+aFVmZHVAd8i7fzTYPZZy0Et56LhquizbVMqu/0HVLn01QsoxAPmGhIc9THsJcT1eqEjOhM6wExxUyY0EYZUBfoDlr4K9PBpNikKJ5AVm4QqXSJjCKNpIsNpNmSI9Po9/aCVP+4JkuhHbCPYWvqLjEXlcPsaS5nJc8h3SBxCQquAQZfGhhaBezFZh8xv/3Csz2cQsjSFXOQJN9G5qZsJKGMM3XAtfGDlKWQXM8lcgS7NOZwnXgxPlzYXjAEeaUycRoeaMNDTfybE7QTGQLB6KOWICpxVzvXqBJ3LWSZz9vT7r1MPMae5VlFFnJBB5lmyHcU5g3bYc7tV+SF58XhmcKpiaI5hc/B54woT6oaVR25iA7Onl6j8dO5I5Wu6MZMh2Jg1Z3l5tvBDPrSzNYS+Lp9noAMWAE3U3OmtrjdYep9kKrhb/xgpnpFKpBufIJrc85Gr6xRMhNOb5PMNJ0pYjnA60Gy9wu+p6F/4tUzdBwNyQEIS209cTixm9Ot16U4J52/UHmcaqhR4Vp23tYzC2aYpeomjD1o2ywSMX0+zqCVZSSizBgJWfAeSPQgRj/PMgAzu23NCs1+nmtH0RuKCRYnFCOUGkwjAMfZ68Dit5x7dVimSQIiAiYnjFSASdCOF6R32TaNQPbKJv2RLlV03As+yTHWSk6IKr3FYpqnMw0Bm9GmSZHdpdek02stu3bKw6e2M5+IUOeBxxh4F1/2cfBaxSMCFXSHoIgXwVy5gp0S/VDgUO3iDgwCTJ3ket4L5W+8kPCIIyboH91r2JE3yCxHcNe//5pKddFgxNA1Ii7Ud/AfkaVe7jDnfx7VT/7RF/YCWd3a6MB854FHmXwhzlLSaoIrXMfPIg4M5VQYMLbb+2k1ATRjkSjeNaqrh7YiHDNXigVRp5UIcM926R2aFjy/WNkLhnOtIqt+6sBxNYOE0xlNcuHJItfh0Et07xSpN9Se7K49gzlqCbd1nRIJR3+E6wqnH5lT7VivyL8hSh5Url5TRF63aGlRDNXTdn2DU5+Bo+cTH7ZehGbI7Plgmw6qacF41/fLvEZhlSxCoudk+6s3pyVIKm3ptgp6d/38mkLvo5C4k1sIFu/Iux7nX3n5lascZE82bTD6cVi/My/Mod0tPwC5AtUbIlPq7NroNKnmracTubzWv8xDTiAGhOESPLVjQrfe/GOtCglwIeTnPf77bTpyrgO7Wm0DFiOqWPfCXMBb0cehKnMvsV1W38oqOL7D/6UxNI3YPe/kcWmFxDSHc/TPq95qiIAWWLfPREx8TOpJnRhKHGIgN0qjZh4VYD2ndL6BrXwPEoLvyhMGMqm/XZFwWzK+HSupVbCopd4rb+WlwZJAcebZiCMDr7+dYsYgoYEEti4x5xTBSn8DqnWJd9K+ZipOSw43f9sJanWT9Kh3O7QMul/9SQTw+cfaRNL1Zj7aDDWftBiPoBwDL9gc3/5pqmdxkQ5RY7V4wP+u8dl3I+X8wTe2gfZ125Z1pyaET73etkIS8Wlmp/K37Ai2ERGLXjbZIr5hZt/sXtaxFHZDc7kqNGp9V5xzhMmzrM8BL7y4RPy05MBvuDJ5WdKb7b90Y76sFFsX174CCvsMNF/OBDQ40Ipn/+U5PsJlY3GVlpW0LbY+Lw3EeiajXhMiOH4IOlvipxHmBk+wLWhEVQc87c65u169DnX4wnE3GaQEZ0scHyyS1Uu+qDwZUujco7vtqpB+kXTrOJSupRHf5FZKcqgUo20KEGoi3tEh9y59NOgJ0+ELvmaN+fVd8ymHHzSBf/vUXeULxVn3ARXoy2iakQW6j2jiihhTGMefMNPeljgqhKe3Hz/9O7wpf8jvoGDWz4xiYxOpg+NFdD/6N3C/vDv1jDQAA/ru8Bptp1sseRBpIB3U2sf2JQxGJ3ArPfFVp5nX/mNWxDZgSdX8+8aO2ugbrOPCzy9Bh7pypBmdvDnquN8eaviYd7ErzEtF9mZb+eH4qrU7rF/JOeg0f/TXbnL8htry1mbKu9iLe9RWfkzcudwRcCa8WmayLx5sS/F0bDBxnKSErIg1oDUx9ovDNQY8Dm/vOHSR9E7w/05Ou7gmzAmkSdvU6248Gvk/jhx5EYmLb+QINhdWtojMxeCU1VW75MCTxagpLJPC1Q5TmAWlGWUZSUregMSPXxDId4dLccAz53mRZayGjEY21xjZxxsYHBUu4e0sVykgLySYe/bdsz9R6BhUaD4ww7WIDIbVYe52pK7eCNkeUupVSI2eWPG+0vH02dfPD3Zkcca3uYuFbJ3qNkA7wzsS3u5j8KyzoRxZMIA7qyM+gBxGJ5+AC1mQ5+LSnezSNlaqawumPPqYdON9aquJKO6JLpi8ZCR4B2cHmXAlU3EThhZn+ew27rFi+TaFH8Gif61bgp0TMhoVgM34lJ1VuU5HGWv/RcLCVRAn7EvTxcH3jDFlfqWdN2twzScW5ZeizY8K+t+meTbWnPYBAUAmB2EIDRxEQ1WuZC2nNOmywzgDQsctn2YZE5aKFUri7kMHD6nSRl0qmk+kSpuF2qFFIXqaj2Gyi88hjZiyFB36bquoUOmLEawxymcAS8ISmOKGxCzgWt9/irU/5WuhQfru9I4mLGfvnVbs+3/z+NoMAkSJ7Str0DUWkeWZkZ4BUXt61UgWdQ5/rBUfAQ+d3wg/03lWgjX/b6qdEnhtH9M+H53QLfPNLKPz0kIiEgziNIgeKkn7che2xYyC69H2OZZXomU/5ebyjMeYfKkESA2AoJVFqwZ/wedM/ZhhZ3gjtw13KdP++SF3ayYMwuP5FAypg5sqIMfR6CQAAAAAFHA9kNQBr+UlWty6DZBuzf5qlNf50r+ot6zWS4+XvPMbsIW3R5VrvKKgOM30G45L+0DINh+0nMl1fBEuWaKQkpY15sJibQ+Brv3/lDmDv1+0TfEqhuuMPyXrzWrL+iL4HEW02Ts4B/AfpClkBT8wQ9wqZ98SIjf+ij7On9jP6aF8Abeq9DDpj+rIuAOQtZAUkEh25UymBLCLLZPuYjY4H7Nl08f8FnLCx38oUCHsox9n7Z50NwMJlQ6o5zHL1+sdY7YCasI3/+/oUwiVvNedPXLkJI/Y9vVZ/UKk5z7enoroswXlM163lH+bULV/eIwBPz74i0cKaIJRJJA7ZCrIPbyOWTcNRSdxKQTDyV2THrD/BKC4B2c/C41cfVypHG4R7XbP92spiJ7JiJJZMxAq1fQO9VTTSJVnpp9Vo+irzlMXPaUKGgGyAP9LpO/56MT0QwbI6fYh9QswRFaGjmhlTp5/i34YsD24uPh4r/fI7AxF9L6bjpC/ANzK+tZy30+vF1aiiLVibSV2sC+7wWPWirB6nXnGjNlc52/id71BWZCSfsOre7wX0CaAAALzOhWwr6MUVUvYGmPWbxqk3xDZmPK3C/NS8jjfVnF8tUS6oUP7tWY2lMKK4UuPheqme6u5rDj3EuW6eXlD5bcmgdpaL/uS76HTje1mpqVSZncU6/VI12IjXwLNM9ye8c5kL6UbiubwhPJ7esV1UdS9pIlej4VEAk86hHHU3iCwEocLYdKvfeBREmbGwwFyXn88co8nKQ0vBj1eLmjWEOjPZnR8X+M7JA5vH2u7mBv++/ON+Bpzbz+hJbKPyugACyCKDyFw/Vp+KhC7vysgze1+ExVawJePmhRdOM8Mz7T/bMs7/y3v7nb6jCv3Vt0rC0HDvcYZwlsPf+iQDU2rJ0GU7vGxymaXMm/m4+9GRlNwCwQORfrxpJQy3bR3SEUyaqQaTYUVb+HvDcjddKIq3vfFHStcQiVvJSJc3mKW1kNUdUiEXpCjP4B5eOlY8OfLj3vDrW6kjFMZT7OyWUb+6UdFXEJfP3/2RO5PDAw2LJ8ApOTU1nAcTHcFc/FwjDpxYFf+omrNqvR/166tBdtzyfKVde+Kpbd6DZ15mUfa02Or0lRi1HbQ28vYRWZLrXkXh6WqS7EEou11eESgEM/0QMcHKDdHTBUJ5gTOFDD7wdgpOw9m7sJzAedazuP97UwirnQ6SKJ0K+FUPXwFWQ91U15xPJ85EAn6HA+MtMx1ylA/RpPV+ktUu15y8MmhBl4osSBCyaUv5yG8obZ7vPDU2nY/DsVh2LZaKb0M0X9jg4OlewlqWtQgGhwqtkRM0TfqGYrT/4eancT1bXAs2aJOa3uGjWCQp0okt4JzLmDduZl3CeUW7TzfDStLB28nEpuFWu83r8jhB2sUKmOHhRZhsdhDf3NoARA6u9JQ+uf1YZSyLcbVsFMCM3kPpC5QDTCE8AA7WQI5KSKqNpwjcgrqVxAtS7mnULhKfRfRQKJwzu6jS7okaDdtWAZ/U5pK481wfxtsGiFSggyUja3BaMsDaNpBFIhOuViLqa75kQLBJ7CONm94eWsMkj4UTV0iee2ANoLiSdjBdExjduZ8Yi7NCs+R9zW8jIKvRosAAIiACibvjI7V1yFInBlghrVsJRn32XY1BOUc14jVXu/NihHd5v+26iykYCcyT9i5x/J16uvIbbVQCsZVL5Ppw8dxLPNemK8Q9nDMFwJMQbHVWj1tlbK0gMyxqbWbt25PUUPYK0KevK0oOIhbmiynPITwBJREXOTCl/LrjfglIuXfI9keBudSHtmJzzlPEx/ss8ubflYClWfiUOiDwbk3vPNsavhEHXlvjiifl5QN0qW65GpnWwo1qO1iSviT7y6BB5KFtctCUY8NzRJaYPyXbdQYZUeoU6S7uNQVo1tYcIdOl6cuT+hGWYm9yyl+ulZngOPjANRJ2MRW1fTxXn4UGF5UAKX4yyxFuxXNYV9JKDNFcAjJ4vDfnUPjWT8sdPU0oUBavqYlEqAgTfBRoB35kDQMj3ACNe987LNj3Phs2xldXV6zGtcEL7rkeqYVxMijUdgDXoEEUrj2kCbAFbsJZmERJwcHtE7zuSO7GjVAHCoUIlfgPfhCYNrfkAC8b/j/khf/qAabDQgIUA14LeGllqUTubLyIV4ffYFH3yTKO3xAg02Zn6hIiJxch+gpzTILQy9TxTnaOBysBorBvND7A9QyEl900jdfgzFstkKigrMXGr3RG9jhHWThHRqgMl8ZPINrQAcvVl4RPgTw4FfJOMVsVgY+HFV/Mf2t7W5M4C7WN8IJHeNk/mqBAC5H3EcnJaP0ciN14cyE24z5FnZwiTCRek2PkxKz4eivCMUS504CorsAKvSosT8iJaJ8T8/smHlAOwlGpje3ZwByuSAt/wnDfpAKMGEgMGS426dO0I9yZJoXD91PeloGyRVsa4AQKUKuRZBtPi86hzA/QJvF1g59bIfFCQ7ovOw9Y4/X2f0pepBFF3c6Ib0kqg4VxstPb4yjBtR51ONXue4+JU62PoumQaX4O1McoISWwT0S5FGkftwc0ng2N4RPEFek++OEnR3NjtnrbHZy1Z8DDrCeHHvByC2WXEppfosQ+K3I7xsILqPVlgRTT/C/6j3ArXh/vNP+pPt7VTWUdJrg/kGNasnXtTLaDBTHf8+v3Ee4A737Svbi4lqeHVubCGrb0YSeUDTjAD5Cux7I0AJxwemHxD5+vNJ9AvP99NLHtqWQkYufxBpAIX49cCUP9Zkl/qw3lYwsOZBzRB1rNyVGs9CsverUF/G4g6oJhOjXzfdJv6089TL5LbP4oL+WstrmWHYqi8Syn/acB1AUGxmR2CMCCza9C+fX1QFmsFlaX8dLPVIswfH/e8PBf+DvhWfxaLoykmReLVEMQoHpUAYD3nsDSZLSupxgjRUVMENXNKGu6jz1+cXROAtYfP9yyEVZkmuxzcSAhE2M1oHK+r+8IY0CbdAod6/uLPHcKEEe7tJN4tTaJVjYa3bL/bA9/lqwp/3AKw2dg2OhttpwBw2o9PXQwVpOMQcwCBDpndR3vdSMY0A5+B+vnWiJakDXXPBWBHcUKOY/fI7WfzJ2V8WwbAAkrIdfnfhikwB3O/gng+7phW9v4wz74Z40c3Er5IEnc+Bsg+1hHA6/ml+OdIN0vJB5yYp4UV5Qg6sUH9XvaXL4tZDvasSIlHk0MOSrUCNfqyo3qfB7UM3yJWUjpZU9caVFAcWBto17amW9GcKUwC/NSrMMtkWF53LTDmYd/Db1L0k3LzHXXm75/e+ueaAUXurrqpNucFi7F9sukHs1f1h/f4ntjC5EzQl312FDzbYPIT63AMhrEUg0ysu3Slrhao5scoxh5b2O3MLb8l8md1LhCxrsz21k3LZdYujDmT0EIxJ9t7MNuihrjWhZYZeCMds35dgmTkjHLHYbL7h8l+g8L0+t34qwGIRcOfqpj6o8z6NG4+a4qlzTvcnKuKnG4C2dzW+noGVwJt4j9RCWmhA/pp5E2JqouFGMrxMJ8KZVz/3kY2Yb8LiL6zjsxnhBVP2Ho96kNWcXxpRpWqqmv6W3qmrgHSbTH8aAaJkZ5k8fiazlNsnO2ig0yS2UzjHje5RkE1QTxgbJJI0Q2BbS5MLk4iXBPQsotjSxSQluSOrIvcTgxqxyqqiSolMSZYJjDGFLHZiMsD7nteWj5xAU9507JcVEDQi8LZjTa2QfJIq7VpoA+BlpEtHcwt6iiMbOcupWHRh0bfY9JVdo+yiM1Sx7u9VrlCtIZVqVpMeyOGNW9kiR2uxPSO/PVOQn4zZ2Lax2atPxUC598eM+mEgxXBdKNQIyP0/FVRlEGcweP7kGaQY52+8rc1J3m/KVcsu9A+QcquElTfPicxAWHOfkQh+0CN8OG6D2sI8XgMwB7iP7Z/5N7Ugf/GfwC//evv0+8X8K4j/V97EIrdOfmekSjAKr9O/kOmkDBZ7tpo4YlfrhvMFfMTGI6Dzj9DHiipSzk1qjgfFIEOry3wpHS0OQgQvrTOwHJDmZNHgr01eBB7Lk7QQtqt5MdDiha4C+4ASkFbbxgPptdT+CPkvfB+4fo/X4s00OFMewEOwlrQQdY1juD/fuKzk8av1fWDqQw7gIOVIglDV/UzgNVsyjQxrW820wkdqsPorV83D3fLm/9Ob5FcdeKrD4+fLyUE1gJdT8j7a+/wTy6ieBXsz0GX+0fwn18jbOqRYLMF1MINkUs57/Ilqs2JSO2oyz63i/HeoV0JDDWiw4CDLL4+y0lhLblqfb46d/Rs2g0DF9oZ5c/3ic7ZvHCsOU161M4pFMfGVGdbvWiZAAaTuV9KkM0r4a3sRBfyEsr2jW8Yn8t5MTa3oO9bD4koC/Nra9O3Rcn19/X7KNb4hXqEWui07UQC+R4ygvJ2IrAmym8SLCm/2UfxNYakUl4ZBy6nyYvHGybZXXC/Yiqil2rsdXZIjYg4kkEZAPW6KQNxYG/xvnIvVYH6RjzVJTJ2E29gf5sfPZRjs7qL6Fu2fg+t6w7PGEZY0Qb4/0mMT2KdZDtI0Tsbq0FTpwtEQk8w/E+pOanlQb/0h8E0fBABNCv4dnNHOck2mFqX4F0DhtlBy/yCuEuvBZB8NZHcYczOtF6jGPzlWT4bKIuI0t9ScH3NVxAl61VJFUjp6ZE0UXUFCTvGNddPRC12aK8J1XpDyFnK14m7gYvvZkzto1Lq3pnJf724YazVPJ2EMPdGolfypS7/bxdxIFJEuSU16Sf8Wyezz6n13RmyVXNVjBJe/U8tigtfEERisSolKfrYiAC53oWmUkC/XzRz5uQhUrq+b5CjFeu2NFbtYCcQniYtwqSkNa+kObAelBrpGVWdvhILokAgC7sZT5Amhel1k091x0yC7G3nZ9oofH6GztDA8Bx9OE2IA0EEgHjXRJVfcXpVRDx7H0D8zOdIs21uPOBSD419OBd8Ar+GTH1JTQMacTvnJuNvnEqC8nSn+yGyBDi4AuhuD2q8PmxPkeVF0Jf2bql1RfGyFyE/VN8cEGDEgRnwLbb8ru/ylNwY1gqMpTwh87LQ0nfHL55yhGSD4uztK4lIrOjN4pgccD3BrWHWNLV8T0kbrDrRVqZArEkms4KbVdt9CXJZYJLDK3AY1G90d+4sADX4MEfazMp3o4cHMUNoFGhFV7ERdrssvT4hXxO8zOreYGnqieNVKxcGTob7DmIprsFXP2wbVvIm9DojM3tesG+D5x1SWtglUEXkGmKt8cgtu5bLoZyBLDiHbCSmdIjLQyXBUEt26ERgLVTwrPFmW1meqSC9aCCHKIbNr6AyRDSs4ndV7DeXAUneSFsjxN+yuAuLAaQCUA2/MYNG8AyB3zYlM/nW2wL7xHb72y1VzNvzAMJkLh3l3J6E6EGIDNPj/ZBR/VccAgipKCT3FE0wB+7bTtH6eynkZWW4RkG4sFNOi+RJUDsxRBY3c1SqFLt29H4ueZs0gwvme+5oYcYL2cx4Ub+85+8cqum1tQZD0QssAbSs/S+YRbGGpulVm4+wDvtqDsTrbm09I1sYVJFeE/i85dUcXXAN2/4y21iKZxhSxSQGGoLnkNGDGwLRlbywE3/lVdXeljD89cLqiIs7AJxVh1eafAb/LeMrs+aHAYh2vufAGXP4e9KAs1DLlkgGcUjspxHWMX+nP3Uu8afxvtEiEPWTE3ULVA3UERX8fHeRczNb+F1joaaLAgCj2DuDZL4BsOJAHPLkMNL7Fil6IOPjySqNnYizGDUn881cAW6/c957H6BRFB+EN2M9l4uuy5aJm+H8LQoqCvbNt76eF+BUm/QqkSYmBiCvYyUVcGg0t024wlHPgVblDcu//H8aO/Q7r2BGmt5RToZ1f6Hv5vmNs3/Rdr3497aEz+osrCiMZjT59k6SUTwlRFVpLA+7ziH25iSdq8RGuN+VrnmRcHIz4F1lox+Oei2kSIcXi0h+K9yU1Tg04f84QNtgBhIUlfc8bTD4lg8l/jT6w4jdFEq1wmJ6WM6FZnGfM6/CFmkqVIuum5od9fdZGypXgBVXCl39WYQcoI9rwr60vmfKiESqTgZHt1bd0agEaZCps9BtqRRSI2mkgxERp/9XKG1gev/8aNEkl/392actCu503Z4HXI0ZG41aOE2/ENbDcOIth84bxIonvRsqPoJ7ZVbTr8ApTZmtic+zobP0Boc4ETpypbxDlp8Popnwr7k+BibyiWosvQ1+DXm88NPcuvRDSW7H0boIMb7nvCu7ue4sqVP+BzUvpGcjExOA2MJR1kesHTN2YbzOeVBJ9rcWCbze8sJHNL5fLu1Z+vNdi6JKmqF3uromobLaNUAh+0n2oK7gYzNyU8oJ7pSAwEI3gvQvg3trj2dBuIh5ZM2lTQ5RGeGXs/fRn/ty1zH/a9Xa6xBQLSppoDZQdVwtsWdnnhYmDkqvhPsgNumLzHkT9Vk+Cybx/iyJB3k95N9fv36OZWLZLzbpb42URVymyznQfzM86iV58r/qhfto0bHbwfISLnrwfRyvtbhSuFREj8cPlPK0gdWdFFiFwmzZHQMrhPmbvQVdykNQunzcdN/RGKVC4UVFmq0hsVjMOKbWf8DwOu/mrRiFv7DRlEk3VyolVnOcZ6L8uIADi5Tk5wo7sHYDXPS/U4+AwiJmOIJl00SPsBM7Eea/VT6XCE6VSnsuIRjHCiM5b2l5yFJGQ34wGyNrtwpmrGcm5W/zqCLhaqhA5OSYjJd3kVDwc8/KQUprWaJH86Pn/SPRHftHfHXXlX693CIP3aDVQcY3bBEDPX7t7EQzUU2WWBPt52lHOMElBt7O2ITqlsOadiBCulRfqyOUIFuuE+JMzqV0WwXTTO3u6GTe5DJzb/WoNcxUSyqeeFyZSiBRd8vFfgTizfqIzufyKMPXgFDNKoDsjCE/RZR8djR0TTfPB3jTdjAPC5kQhjLQwkMIOLpQU9AYR4TWPR88uB9mASjnoZ84hT2ahYgl0UipfIMQNJEMCjGkJEMLN+jMA6TVIB/6rOnO8a4PwALD84B64uB1fmt3MTRvWF/2UsiuA4dtbq2If6p6uR3HZjasA6+MCzK+SoXESOlmubpi/pUnY07ops/faL5agoqKRx+aFJVIcJLECepNmfymYMRwAJ5iz9MYtv4qRSClJhvgKaOIonKa/cW0oQ6/+3lKXCIV8DtG1WKdulmS1hWIfoqn1jRGKlFse84n4K/hBKpHb1zMf0qIrA3YjiR9JJ8aWXWM6g4/8HO4l3I/GvsrBjW7DWwTcvFaYpiLb5GVcs2+B6J1Z7lHrUrxUpBAYUwzN4cNUMPx46cAQyETqKsNeJ6wJtCHSwG6l3T5/Ha9Iz7bxj1T8I1Qa91YDBZZCFe/YkAUCxt91RwA1fxVE7kCkoHcNfNwIbfNsTaNRYEFnapaFajE/S17qol1I3nBvw5qK518II2DihXXmP/G0nYMSUSHQHGLfooJEewQbNFehtBu6EZOd4n9K+e0WK5Ko61F5Yg2jL/M5HgLuJlhjgj1xQOl7ejEQAxLowA8EWJiyya3yvmx9L/yBwM/fjABgWcU3N2QJF+/wKqAoSV7QOfkNMMzfOVPYC4QJsSzTBjFVwf9hygMbJuRdkobhjhlL6tc48FWBTxVq+/MTXg8ky89mzMNDeUt9o/kv7vQT98/8TgQhCbCP3kotpRETeauYbGqYpPNhv7xJGbv+rjHksMERjSCzyfTbOlW0a9uIjxNhwDPI5ROWQnuE4P9+pgTTzp/8Rz8/nPqY5x03MF+fWC8FPqwAG70KzkFoHuKciTvnZqzvgUzwPQhZ2L6UzHBe1Y/GY1Z7MTsiAz0pE7uao4fdsuoFC4qt2tUldVHvXxh+HM7s5wfcY7UTJFwn7gWqB5EzBZqupG2+li1mE3dd0nL7lXa4t214NkWKVldCNIvop212nUxj2t3OP/KBK4GUc3458ZiuBFd01t1Q2kVDQlQzrQuc29jDWBnPuJ3bsbgZOm7YKfvRon2ExZ1ZoGlKBQvLB5V1HcRK80ruBgsZL0j/i8FPKraFmsZc6JR2kheaKewu3eJA/A2zDqn8DAwLIL67vLdslYYV+jt2UZ4Bj/OAc3cReT4dCJEyYXnAQuRTmWtQllBsv8JcC1G7xAnq+gKmkX3vg6FMafxCQwrw4CWTF0uKjpEGqpXWcCzJ6BSDkYlz4lKnR/gfle/XSNMLSNkpKVNeaAutKeBNmLIezQ1yIvSZGEucTF7zhit9WAcK9nbhEfgoRv8Y9Gmr7cuC1kVwaZimQw1sRG6VnxdLxopjKBlT5aM47tVq6J12budZzL2noC+XsItOhVP9K0jy1H+eIiiXmY/7nTxNGQZmnkZw47Qvuzkv5a6YxGLoRF0Sc0pAjHFWz/arZMgabpKtP73rzdfs1qwOunb/4M52vLf6GFl/uSbIQ/vnPQNFRLTT/sCNDE1QhfYDGr0MGem6viTJ39ruxauvL4+EFfreECeL02mdbvqGqw04DO16ynhuqQCpTrskMl+Umjf9ZBRKSMV9pqphUdTMpOK1hQRyLC51VZA2690yXPlpt43+G2IXzgYc9EPuMVWNf/lvKevU0ASyKwJfy7ki3jUZnpDqjaprG3OFpk3Csa7iGaaQgPNdTOdsycbdIO2l+jvHaw/aOG22QiIDburY7L+lxcPErDHb46LWUruYDMJqrhY4e/89Z9OJNza7cx/w9KnivpNgxG+IFgehA/BvSr+lRe8OWhmPN6Ay3JB7QT1fOBs6OCiDT6fU+AM+stEDOOBU5nJg1h1kBWSts72iw1QqPCkCPwOV6oXoj7pjQtDB641ifPH+pqt9MbRAr61fyuC7rLE4d/t1JZYSXaoKgwOc/0DaBArY1zmhSwPkQSmKvBP5WrjA/F0J6U18oOefnK+eRNaNtRFicACBNfprPpSqcjiRy7q36w0azR1Zvw8n0RhW7l77WhR0zWT2FjY99j4yKpclCQNXsVcPRYEaqnBKJ0Y83OKAuqPkXn0HfdYq6OhtJWHc+AAPCe7f0NF6wn/BQuichfuannBSQ/CdlHsFQVRl/DkmAdSdLFo9IOas+spVqagckmDW8ryxLi5vLItKONmJIANBoL3bxwAupIsPzl4gWrg3NLbcmQNTTnP/KALxVFboGD7ipcp6OZnustoi4QYZatTRleCv1hxi/ChKbtsSWxwFOWWgmd4gXTtk98XgHxS9la4AEcGptAXzUtUlBF+z61o8hO9/3kXnH9Gadz0EwF9i43Cd3bExM4vitthcFxb1v/BTw7NhkjubU5D+5YQE10B40Bxf6PEX5EhmLi3vgMS7/95lOrYsidOJ3FESgoCvhSrIRE3M4K8eBIxOKIw/1iUBcACaZphbMwQfAAn/jFQ2RrXv3MJQlKfDbYxwxzpACUSSFA2CvMwdpawYNhKWv/AxoZ4Ym8oXH5tSfd4M9wIykdOX0ig75WdCnEraSWY3ylcTWYDumnBX+L2uE48q+0r963jZGw+naEejMKueBgc/1ZwAczM0PuI3hIkCaQMpyKF6hvB3R/kxjubtvg57CZX7InPA57cZW/i9iWqmt2fF/xIr36awqLs15PkJZKcZQ9u+BQDFFBlwVlIChdEthSp0zLviW1Vws68TcAWXwO7xlsHa8Z0+HxUf1g36VXytC5HR9heSCwdlZzMTl9JlTJDwOwUryWtp39MNrGVQNp9ZT8pkCHuJ1NWL/UNzorJ/JfDgAB7gthH4/bCHwkPNyfvCFSEvSK9Zn5cwtspMHRAZUyEuKE35GuroUO93fMFtuhKgFWu8bt2bQxWpQAAxUn83GL5qMCI9zf0kDRukQSR+ISacniuO7VgJQVV9vgkxtjZ2gu5SIQ43qYeXNvg9KJS3/a1rcOQcdCNeMCZpg/zc8+bepiVoIrzh1wkccwrfzlXRrePQmGjZDHgeB4ZNLudWyRoTKRDm2pAhUdKitNxlkejaKKv8jYrBb+f6HMgZqaEbZ1YpMtKCI4Pc7iVzD10kh7ktrNa8vSDPlLfaXAr3BGVP/2VxiIAf1//p3em8rvSl3Hqyl8OVhuJmqRIEJ8gggCDP/QA/5TA9tGfdABHhLwGDuEtQ8xt/Zdl4yyyPBxX3dfz+zHgKOJyrGFN7pY16abAGPjYJzpAMg6DMzCegcgw+E5ncmroDRrBGOpQP9xQPu30tUz+J97MZ3sYa6VfIOLK8nCCjh67k5AcgY+AJaq5/0TiaYH+cy9Mktwtgs/Z5ZfsG8xrR96gHuswuOQKGu4YN35Kcbe9gUhn5FNo5B50FPZWb4jm9UvdC/XSUEuo0RAdL5LxjmYP2jPQ/yqjAcqRT+7SkLm7FlrOoO59iSxZSg9uodtQXlfY214XXXMb6rf4m7amYcwnxXzAjVDbndqFHXpSVgtjIG1980zSqDlrmGkXW1cDJhkRWiXP4nJsiF/wTyfFrX7lgfpvQNTEWo3565rIfbvr3TxTCJW8Nc8VumyM30rtKxhKZA3CQAK45o4f7RJsKRBZYI14inXn8hB/ruMmiAsVSSK5W9OwIW5GgsF6iAD4BxJ8MscyVFIIZyl5gJmLkPE4uTg3XJBkhg2aVjyP1aX8APeR4X4SgL/q1RC4jILN9QQx0QWtVXi/KRHybXmIBsEMOKQZ1nCVJEZFQxw0Jy1QRs0VGENo7iMrAlVfHGBCrE9E3+o2ARTYOVvmAWULleAz7NYs7AcvhBQ6H1svi101aShWjhS+QbwhYnu/KhuZWuR8JVWudedeXC2krk0bn/CCLxvxv5cn0zXJW4FGRWvz6yFFno+ZL49paEobLxKaEJg2kF2DH4atHFJM2J6UCbW5DmwgG7I19HX2JuEQtmYEbu2tZi4Hxfv6NRc5tRv3xIvlNOjznDlA0syZJw6SDTgPmEnL/GTQkt2p7hmyfkLrQVHLqjEW4I301gDPjcflDVa3GF6rrwXd/xXPo6j55Rr03NPQH019gJHspOtc5klAjVriEDok8+/8rgjGyEnTBPjJaTuWBOplCHGOD9JujX9CURsjhccWCMLga0AdQJtihBv58ZTn/8iMpvVqZR/xbdbtIL6cLCeYSHIoWmmhGlsUZDmbObaLep65fJn8LuyKWs2zTrAfRqHmuMJsJMWDGIPgkEccXfmG2ln3tdRHK1m5Vxgq3RjuYRHokgfNxAoig7YlXFy0j4UbqvP94WL8uIYOHZd3Xlku7aYCqrsiKcE8am9tqKK8ATr+e1Qt2rmaXTF6PnCi279Bx6R6IQmITOlTbCQpwPuwWnBzkWYJgggLCgK1wk4wkJCYtQ/wLHymL8c512V4FPBLHMPLzErZ7E39rCLWYgqbojwFJPQgxSdCQTCV8SgKR9cQLrrBPLeFTI27VxSSO8LPdBlqccN9rWshfns1F4Gpsi95RI7oJnWUEK5qrEtfW6Fv8M2207gpL6My108AoswpWa2i//siIBunBEntg1Qk2LGe5dE0+/BoTiHEvxQs16PhaEknCEJvLBFOGw2OheEarawWpHx6HCl9Svs2eieTHVboi0U86BoQVYkZEkU8IMkH4L3ni3ndKDx9J0a4/l/bTTerMt0wJhJFmpSRHQZak2+Rff3TW9dBQIjFuLC5SVPJCL1Ha8mdotlHLXLFm9kQrUvMY1SNVd88U+1EPh6AZgCQrNQY124ObdfFnU0+lbkwLABWEe0Rs0MxS3GGcDIZ1yU+H1wOBLiNOYAXevU53lykMto9yFnPVWsB8XTMkuPw3/pq1L23Y1pwH6mdcFbOhQ0TYy65tGZeU+lzrYeC9XtU/yEVBobGBH9U1Xd+FPOgtfOWgOg3f9JF717KOYw7PEbMIacvA0rvSjTpt/2kabMhjq5Hrih8aA3EIcQbVaK8jUEJdQTOth/yN/v2trYyDoB3DER9nQkdRVvSUMD0fC32cq4/x+/XuLCiti6zVAv5zMF6mSg6jGosdXCAoK3tRCD4ZynPC8lGGSMzkXE7RGw5Sc84nGGClPFMGft6LlFSEK8kBFMDTUFM3szPSourRnLok3LdBXhwrrgjES4i6hZ0yQKPiYoCAPhsyxMhyUeT6rB9MEaepeKo0h8J8o7BCnwl5pMGffG5onRpynI/+7m2oeBrSobArRqJ9xI6pf8+nEkSgH+c1bordaVnL5dEQEMezr2BXu6D/2SvBzx1PgsPVcYwtr8yx3EUJA9N3IjoFVUQvBhxFTfFmpGujJnpn8kQMFcsCetwWsegrtqG9cV0mLRDaQj03O+pLsJonSj/j9xKByh3ZicOmdqWgJhcBD/T2X1IPDG8taxV4VwWuT7dkEsVLC//qVa5KC3+cO6UWGZuzb30JENEdDo0q/mouhDZubvETuF6yQ0nVqEWcYjPic7xOQH2RMcETKV1EbCOOrsGMamgw5qZr+tffdAuTvccWILoQK2i3ycf8QjhIOrJ0tiNXmohTnKd1C+jg1AJ9MG9llrmUDsIGx9OhHLdjqDwzbOvXb9axnSCtTfTgTp4PWwuIfECJd7RYELeK9SsfOxXfRmBHbGt4ERDGdcywIETmD/sELDvopOpthoO/Q4a8vGtQGkeFw61H1JH0bZ0tNUmetgb60V2n+3Y9nlsOYmm3hzrFZ8Hh2rEwE9r04Z3QfEM2cL3VrGObDS80sBq33bFZ1O2Z9N4wJwEGmyIXsPFGQ5wHf1qPz2Iqdgf377+7J8Lr4BhSN3FgZXpl9wQy+KhGMBJJXc/+evNIal24SFh/fd/5l49S+DEKrTIXK/g8haMETcXtN1E7/qxgDiRK8IEZ6pvsmtz189ZdMRbBEpMn0GmU7YOj7JYq1WIXzYjqN0T3Cwq8ZXiKsYmd6Hr2h/3cCKLbpkOFmhwIeSNUQjfcjTB2IuRInWxG60wFg63B2VKXblhr8Y13UD4P9CF5EtI7zaXvpAojHOX1O3NJlvUH2JlV3Q9v9bOhdpHLw3ZMHwgA+LDpeuk50d0NxTeArrhTADwA9/y0x03+z3CY2WHwJbbWdQZuiuzW6Ug80XJvyj9e4Jdk1rbRNsgkEwIa1faOiOgPIvZoZSFmZMYH8JYnXGje5m8Xe6Y62aZamIXMHmgMXJHjvuO0TB6Ym5yRCi1uak4l4d+z0yDJxwGpv4bCALpVE2XBKbDFpLuSlXF4nzcfsZJp5HVrDR01CPsvwhZWp3JvIgxjr+fe4oDxg62/0L7Lq8pV66hS0nBhqcLVW/zGTjd4xy9uAwyJw1wcLQDinhqv+W/icFe/TK+ILglImx/NDgGQLh3qa+GZG23CSAeCdxoWYrSMysJ2Kfc4amM9VzsfRNIkdx/LrVKG1rzpxd/Q9yzjuymg0oEuEWJYYT5OU8or6wn/o/CF3vH+wVCbKJU3x9iBuN1cp/vhMglnQthRx3QvRRlI4yIQtd4PDOU4sj0uTgIl8lEVbW7VRjA8H5rTCDy7Zr/OcNL4VE4eqw2scoxxkZb9uZ1edflImZBaD+Srqor5iAnRfgmsBb8evDyRL3GlhA02YaueFvAuOQpllwfhxBpXx91t8lK5FCm2XvjxavJVnCITY2ZdCEiXxzCcq2Q2f9Vh2Hd2QTq506ldhvshHSN4MIMiNfqP7BQLICXg7Po/9U6eC9BPpwmJf5iPmb+J1nK3rp84DM5dema3LKVYfGIuejDL6EyreoyuJScnpHObl1jxOZY+dW41M9IPiCzE/KlIKbqV025N7DVYjmt0PAqqvAafSwTAsqNhV4bKpdXHmiCCNUyoND7QuFgB3y2VPtiRkGiDrKHSfCpHKKeOgOjiF3Mn+Zh6WrxyLMalCMoYYt/+oQOyACo2wZ9MhBD0pyXiVl+EkDyCPgJ+1A0s4c3Dvi+QlE2VySZe8fT7Kp7lS3x257mwFOXQL37GOK8IsMIl7AxsaNt2qx5u0SQKxwHM9EYNzIHWeD2jPgUBdCfunI8mGT6iZT9Fpmg6je1ajRDEuXULBzznvC9ExRlY/uwIvwL9RWufmLM+2Uu9dv8f+QYZtSbDWmVXEWWSHnNORR9e8vk1spjbD5QwrKvkY3tBGzADVAFqvsbXPZU4jz+31F0xK02bOR/C9YAW7qX3YMuWku//mLK47sYA4Bnhyvg9a1rxwCKfMeOBGtk/lS0uDktHhg96i8sEpHHSLdWpr5CELRJhvJ/MIUyHw16/sg/1hk5Oy9AvFf1BOCJiLvK0JdbPY9SCvmcnjSF5s8/K1G51k09m2cIXXMnqI8+gV9QYbImtiH4rdSkazy0QDV4+lQJCZU/BBZewVrqePS1mxkEhlT0X7HVnvZXl1j9pfE3wSgAo9bF/znmbzQ1i5u/LovvCK/+90+/WKOMt2xBYvEZSbr92nIyJonffsy9YGBF3wzl5d++JcP1NwkstLkxvqruNkQgbalTqs2lUQ7+dgEkFC6fyQNIiCfsNjx0NiFfhG7gNAdTL7cD7Q+LBHqk3enItvtG11GiCUxc1tALvfHANuqkc28NAtfmug6Az//GrJf756OcssvlG1crt/SHnFlD1MLPp8Rf0FSX8FQqPMVDisoyyTBT62J9RrAIjvqISRiIXfvP8boitkTtgTtPaDS5etcSVzkdJfEqp2LN8uoknI+Litftqs5PR0WPOnuV+snas3nSnvQYehCFqM3P996bhyiohfU87PFI04LsOUkT16tyZxC5X2BBgOI8M3vXB6TDpolq2myh+2pOHFjE3FGfUYVLMkwEIA9UOzKcpAYCBSySOLMr6vI40WsEGVYcIHeTY0dM2SKAHZhbzRqJMBl9i5XsY1zKcysg4rk0oGptJvKG+aeC1iRsidf7azauRGQDYypsyR5nEKMOUGYfKNiYevONEUby/Esq9SSI/PdnEBUX2ISX6CZepTSF/pRi+90M0NXgJSiB3wnHhWhw2Cx6aP7zvww/210xs134aIuU7T3VkzkYpwd8nxF4Y01fNQ6QaRRmVWDJHEN7Fll8Ig4CFLCjL3C5iXLMbH3VOQEb3DKBATZEV+VZpkI5aZReE71tIgGLOhEALBjoY4HQznVXxZuSTLpId/8adeeBeBLrgullCyiJSUMznS5T8PW+7iTQz/BzjEVoUR6zOcyKYk0kOXgTYSkbucEwZTPHUgmxOo3MWhuVjjQfDxrMadNbWj/Lj66O8Yazx9aEvEXEtU5sFhCdgtfQ8X9s21Gw5DyZL0LBCHKptcF0msO7jwOzAkKvUPB/4Zr6jJ9RirRNkflRjoTZ8TRLLAAD731VU8r52vA3fX4BhdDHlPTBsHewwxa9Cic8cpagVRV6MYtYnAd0cD/M7lR2u5yLcNRIsWYiV7ysIbiT+47PwxuctSCvz/wb8VNSb1pOVqDI/DCKFkLWbEVY5LToqmDXwEtyhu+Ur2rQc1k3eSxidwkGhpNsy9GO8+iWQMJvJxihvhbdV12gjHR5Ae/Rr+wpQPyuXNu2saMDLb2K9DtRjcCH/k9xGbvwq/mr08hhX2KSy+MEK6prPgREdIoLghhd2zzTjOgHLiSQwikWcVhT/1JYNcO7QrosW+lW8juys4uMbSUN6jaVIJFQJVDqHMzo70L0cK+E6IryWnREl0yoXaSD/fxDM0rKezA+YiMiwvUVb8B9vTu7bOS8ICWQwYaipnzppQGoDVPCCURKLGECTAV8r1bhv/K6DG5kHd18fGPj5XDzbMG0bZU507A3smP4aqQLsKGVE+dPuw+fk0IbhlxIPrg1o9LIOVwSOClV/R+yTZPI6GQFAm38SZY//u0vlRyVQYfJcZQbC++xu2jvUqiMYAbNt/tsLMU4iB0s7HUyC8kqf0OjGw9z5iDbMp9F4ixPyMoQYRuZgXKgzM1RUZlTByBmJnIgN7aoiqYPqwKNqm1KdcpdFRtE6D+9pdrFsubXeBwnuKnE8oZUy6ka+70RjWvFchwuEoQPXOm8/lSlBqBYfcVHBhfxQMPi9fJ//JldXlVecIdLpWCr/1q5WfpwfvACbEECqyQH+utZWOIe5OBiaoW2HXYvVYRZyVBGU/E/RqH6UYd1keyBajiOJOIoJ/yP58L8AFlWSrnuS2BtZX8QJPfmDaXLGiiULTiI3LPYEMUIu8Xqbn9Q1JhzO/Dc7X/koc+b7DIcKI/KFzIry2UE0sJA+jRDNExRyMsI8IEqz4/9CqzI1PHYGHzfMp2IgmcULvUHI+dtchM0XOAe/D20sdBwg1VwcuUmcgS/yUS2AJYC1hjAR1QiCLj0TPyMG7v/wRH82lc7R4Yj4x0LsE4/84oU0OlnVopbibVeyugXvY0kNH2YWNyDLqZ+HN6heyMQA0K/gLIPlQml2qWMXAYohJ1vPCV7A7DK5xSptBlrFagUMElVgCmXxyijq9OVUjoesN8AjCEXnRYk11lpnEaEzikjCrbZ5qcqwaiwVacNHay1p/3nfYQrYTm8G9dOtlKkEM78rSjdJWHL4x+KN0/SRusP6i5fpANiJ2dM2sYM5L1dZwamxAh/6/XSXmkn4jUXhpBH21joTQ4lJmXHgYAQGXmKqvigP7rTldVFmTJ8jhUAAAwkRPIPK4+45SEfo2uTikGoEvbpThS7PPrAlTwhqWiLG4lLMT15NFxa9nq5idfMQ3O8Y4jaQTXTOVRJAIqvtz9ZAnX75AvcRK1F3DmEJuAMEEcPomCEv1T5XBLpaM9PnF10A1Oq/WyvDUO4WZRXgPZFBHeV8AVVwNEgBXUln6VBMldkLWXrVtsTk7qZXshhUYEe26uoLxneotHfi4jGVqs2bf45gCsm7BLyc3iP39FHnqSDSVHezTjvd+/jwPCfAwxuso51dScwSWVzrsFamqjmfLjBKfiEa5BVtZLA4yi09o/vd3S4GdutAO6BP6F10ERoQOosj8mGMwOu8AQ1UoNfx6KNmkz6vlAvuUa+GxfB95lLxaK+WJc6VgvCMJMHR3oNxzCC9byq4udduWPMKnEzCMhvYCk/vourneB2GWdfRcXogF/jQH8ZwuSaIkgpnJ1hY0MTpVMtwLPyA6pJahUcej+d/msYLwgSsHulU3Ud/khooU7bgGxjmoT3MJvEXvCfAe8w1sPsJHXXVuHWncjronr/cktXmwp0E26ZbNQ4du3T7W8xGGvJXcCXw++JKUTZwob33KVlvFuuT1WRZf12LjitjMk5DK74/WxuMmXNMwFGg01c3/mzr7q08nWCJ6MJHWTfJ6brsJEgwigbWK+3RkCYKSTBaI9E9mzhhkTBWjjwAu/E5hPWb+vN+YOR+5P3d0rWJQF3cYNg+WWyoxnmcA1p3u7mYALMgY4uGsxBlzNvZRbLL0QYviM/7xd4vPkJUyeQK3dYqTNSym7MfzIbAylO1UZe//OtN+7ss9SV2xzKUgwhfrUaQUrKJhpyP6zSVsDYRZLJBp+R/c0FBDn/O6TTcLEgyoye3zVel5kBGEvkbFtBYuY61Le/P2f46QO1USqecwV+mX06uqtRxo7DavYO2CCOFyoHMbh74Y4M8cObOS51kQkK+Azv/K0LVOWqOlK+zw3320G9ojx+KB7Eapl1ceTUR8goQlxY0TFMvPfXKziTF/mQzGBCVFFLhVG4nrB5ZkHJN16zCA+iNXZN0iInT++jNZ8o/LleanwOn9j5PRAbNzs9qP/0IacKlydbPbGgfVsGD8plh1zl5I5tF1+KAJ8pJQolAtE19srOczg9QUo0gEsFhuV54AwYbwHx7cuzCmpJWhx4oKxwSBOMKTV4EYa66khyNeVEXHi1WfC+UoBftwJiw9r8c7G34IOmtDwTT3sZcREIljEnA5cKfGM1HiFaT5ngyQvc0lEsBj0ssG57z6W+B0rl+64peTXliySyzZ1fw2JiMZkLEuK0l75wIzKflgBwX0Gp+Qrz9LBIsYAkJdbx7H7WuI3f/ZSOlo4SWRywNcDNyEvh3XBdJKLyx3hbHMFhQsQVyBbh8bcg79HgNc04acufVIUjpSmQKfrwtA9c5nZqN8c11btt4ikRN4ScIYEL3xfu/hYrfsbTSn5Eaa8pAuEYDf0IPp0+JQyYoDlUmbdWx6TxZtwGUbo+pS1/N9ezFZd5FanWX5nrhLIc1NRdDopndPwzFZ8McmY8zm3DKiEYpPmbD794C/+1o1QfN6fkwXox0oP2xRpEpU1D6ib4uWIpdbii6AiBDPijHANiDjsPaLnYWWarGRIps46NcXfaEiPJjKSI3guy8E+onh7uA6c09YhpBQEiNk9utCBat7chwMjgJoGd86eV+hKKKOYhMvmLwhkmvRG7QoSxAd3dRp0LEFJtxEndmpm5GBttH+x24YUC1dXM78JsaAC61hAzot79gYxLJrNOI1Yazm2qKxnhKWV5ES9FZ7PBa3bRZ019MrufDEuKf8DIN099RFm8rw3cQkIFtXGU2PqACzO+xldXflgfKmuceD6DoJkY4H8DB3J0C81ZKX4NOBnSHKX5IXjhQ/vpAan419wLqXPQTpwaIzUyv3sAdBukQIrHxmm/qojqf19x2z12il/Mejg1VpkiYre7+beexki9xuQYr/V5E01TIafVvEA63fyWrNffjDA0/V/UJaDh0bNfqOVNCLBy036Z1C92FGATVqjbvk+4cTCEr3d2gz+g5g2gDTzcObmnilpOWrINizDEsCDQw0beXOY9xe1YXm+C3lI3oN5L062v4wrpR4AsoNteiq6mBcLRVV1fOsDDW+O4os06dud0SIJtUOUwE1svFqW3S58XpIFr90WjOdzlUM3nmPBslGACIspP0teSphd/8Py+DGtJx++0b0brWmHUtseqEXofOUpumFcRCkLueF6Dvh1AGrS6YuZFgAaEHSbtZ8suDIYZY8pcuTNLDGVIYh6TuEQWKEGTyZjR2cIkADPCICeoqJT7OAhBpC2lruG57xka4bjWRzO5Y4yDi97k+pqreFbRl0Ux+G+ezgsCD+qrxA5zCKiE+D2Faiswi5nLwKosIv85wRmaIB94Ingp94mB9mlKi+P0340e0iHqSnssgy/nc9NyNc5PbMJhuvI6AS27iINCnlu+kNrX2SHpk5in/ZKOgirhVCCt9pwAwS7C9t1RZu87Z5VX8i83yOEzncD8qKLWwoc48Bv+vH8hNLSl66FMpRCv7DrkNsf7GajhoPgEUPgbmqm+XG3LJGqU5hZ2yKfM5ZGWzA/gjFefqxXLGo/+FVqF8v+K+OoZ8bAJdGPIH+Tfie+zUbw5ykBLTiXXZC1ZAihpdfXe1gi5bOL4YVDT3ne7dclP2W8Hc+QN4llCZvCfF5mJie2UjQ5vSKWErMPKNMz6UkRcuPsb3hUc3BKNiYc/a4M4+FTt0YhPwoFrZQYOC6+wcCRNH76as+lGmqU3ROXj4asqcNQMSA3ilxKk5AMP4yWTNYEY85JijC2nhxcehoSUv9dOnRzFCB4RQtbSOf6Tfo6tdrrUHvGXM74pzeR7WsNWBwpSoNGoQJ0AtiP4I4kdxE0S7MiZqwuK5LFrPlKsbYnEFhTcumPKajM+XFk0ov7ROAgfYEAIbDt0rFA24XNCHvB4HAAtW5XI8BCm9VQh3HAuDu4Ut24FxVtYwKC3fIdDr44PBhoVaSM9RxuA8Dso4bMusfjn6mLQc75/lErP7IIchGAgbV3HlljFGYgtCe95zsfGtQKIQAIiMJw1sHwpwR98LqBCQyzrjzJobgpS51xyOUorWKhSfog37TNqEQ39/qmoxx+yYtaij3x86q7mLL+OP/u3SUISKoZX/R+7rubj0bJ3rUrnxnBHTEWtvBMuCDkEmehJ0vEAAhDqTXrP6HpzxF3IfmFTXykDZLCQrRC9PLkcpmLbE4C/O5i7e4L71GYVmM5nl5YyvJTehEzemSoBAtyo0/wjCfRG/9jwotnp56Nt8NvC24ZRS2OmXOEMt8uqXcm4+TtrcHUc4IIxA/v6roaMI+jzdhDYHY+BngKPYhHbo4IgrAtiisS7OY5q6+R9q+NzUSC/iHwXbDX4XpBVRiCLO2RfvPZRtJZNucBWAWkogRi5Oj0fUxx7s+TIXBJPBVNscapGMHVY9uOtZB6cPE4LoS1QFRX66j5LIAUREVCWpFgLxxq/J9sZAqz1wwcP9UmyT9wsI5U7q01JtT4lkZ6eaz3UvSCPDCkVMPpOUHfxZ4Ka0JfvCgHVR9t49XdfYJatwJVlZxO0nvHie8cxodE6Pll0iY3QnkxYehxvG5wnF5mz/KUHTumIknKXvwuXGibgWsAK23SWgXaYFxgN89PF+XSaZM1ZERGyPmN3t4HomgVh/U4hVHGksV0e8ZJgcszyJMslLPiPFjlCibcQE8+kMFjJj2z/SAcr2+S7LMC79yHWkyAO8Xs+iDrT2H3t/yWYzVFfhVlqCfE9Tdpz93HMRR2cQsGyZww5v0Mmw3Hv+pnQr7shcmodofB1YtKNbgRWXqrrC8vdVMO1QjpuWacTGilepcMsfVGQ8s160m11NLba4slestmVVkB7A6TComc1czyQXvTI5wi7cRfrOabLqPOJmzGMt2uPUhgJ3ZC2W5G23tAVhyy6lMnVN+Ww/FxWI0M161kzO7GYnYmNfKc+1ZpGqhoB8DBV/HC1OmRWjSS+K1/L5ST1p1o4ZT04BcH56ZxBVlsODsOwGdKcC3JkPpBJZOVwh4NEEt4jhXZpHzOCxCVbq2gTXDj10WcGUmNc1JeJ0yfx/peWnEQUOL0W7wSTGYTob8czMo7DlKo/eM6RhYUKJjFuWY2jTE+KVc/KkGKXpDlJp3+SC2Zzz3YTH+zAOET4Ie0mnG6rcNjDL8LYatOlN9yCgE4AIT5Iixk/mKWzJVFlKXwy27IQ7uYeplWpeZXDr7x5409XLSiazQ3jAJ5608dTIRUuJ1S19nCff07ykM5mpWp3oLW60Vgf0Q0I/mfGQRVY3x1tif84AUFbAEQavWYE+Gcjjy0dv/zeLyp04XfDBZRuEaIhIIu6zf7yp3dXSYlNxlnxQqDgpfT4v3ClVBMfBu9aeC+3BPbS7zXINRqYJIpGYypYJe7pRuSgiU9hJm30uOPV4CIBGVwc7ZtHOMlza0uK5+faZWuVR6geWKk0dkGlW7DDc5xppfMmrB1fkbVgVkxxOFdncueMdRHgjxL4U/EH6izQhrO4U3ecAjuhyHY474RQ98tonhUheaJeldC12YUyuvx3M0Rqoqar+0kUS5cq6lgU9dywZEAAAA=)"
      ],
      "metadata": {
        "id": "mMaRjgJI-oU1"
      }
    },
    {
      "cell_type": "markdown",
      "source": [
        "**Flight Delay Dataset Overview:**\n",
        "\n",
        "- **YEAR**: Year the flight took place (2015). Useful for analyzing yearly trends or seasonal changes.\n",
        "- **MONTH**: Month the flight took place. Helps with monthly or seasonal trend analysis.\n",
        "- **DAY**: Day of the month the flight occurred. Useful for daily trend analysis.\n",
        "- **DAY_OF_WEEK**: Day of the week (1 for Monday to 7 for Sunday). Helps analyze trends by weekday.\n",
        "- **AIRLINE**: Airline code (e.g., \"DL\" for Delta, \"AA\" for American Airlines). Useful for analyzing airline-specific delay patterns.\n",
        "- **FLIGHT_NUMBER**: Unique flight number for each flight (repeated for same route across days).\n",
        "- **TAIL_NUMBER**: Unique identifier for the aircraft. Can help track performance or maintenance for specific planes.\n",
        "- **ORIGIN_AIRPORT**: Code for the origin airport. Useful for departure airport-specific analysis.\n",
        "- **DESTINATION_AIRPORT**: Code for the destination airport. Useful for arrival airport-specific analysis.\n",
        "- **SCHEDULED_DEPARTURE**: Scheduled departure time in HHMM format.\n",
        "- **DEPARTURE_TIME**: Actual departure time in HHMM format. Used to calculate `DEPARTURE_DELAY`.\n",
        "- **DEPARTURE_DELAY**: Departure delay in minutes (negative for early, positive for late). Key feature for delay analysis.\n",
        "- **TAXI_OUT**: Time spent taxiing from the gate to the runway in minutes. Useful for analyzing ground operation delays.\n",
        "- **WHEELS_OFF**: Time when the plane left the ground in HHMM format. Useful for understanding departure dynamics.\n",
        "- **SCHEDULED_TIME**: Scheduled total travel time in minutes (departure to arrival).\n",
        "- **ELAPSED_TIME**: Actual total travel time in minutes. Comparison with `SCHEDULED_TIME` indicates in-flight delays or early arrivals.\n",
        "- **AIR_TIME**: Time spent in the air in minutes. Useful for analyzing in-flight operations.\n",
        "- **DISTANCE**: Distance between origin and destination airports in miles. Can impact delay likelihood.\n",
        "- **WHEELS_ON**: Time when the plane touched down in HHMM format. Useful for tracking actual arrival dynamics.\n",
        "- **TAXI_IN**: Time spent taxiing from runway to gate in minutes. Useful for destination ground operations analysis.\n",
        "- **SCHEDULED_ARRIVAL**: Scheduled arrival time in HHMM format.\n",
        "- **ARRIVAL_TIME**: Actual arrival time in HHMM format.\n",
        "- **ARRIVAL_DELAY**: Arrival delay in minutes (negative for early, positive for late). Key feature for predicting delays.\n",
        "- **DIVERTED**: Indicates if the flight was diverted (1 for yes, 0 for no). Useful for analyzing disruptions.\n",
        "- **CANCELLED**: Indicates if the flight was canceled (1 for yes, 0 for no). Useful for analyzing cancellation trends.\n",
        "- **CANCELLATION_REASON**: Reason for cancellation if canceled:\n",
        "  - 'A': Airline-related reasons\n",
        "  - 'B': Weather\n",
        "  - 'C': NAS (National Airspace System)\n",
        "  - 'D': Security\n",
        "- **AIR_SYSTEM_DELAY**: Delay due to National Airspace System issues (e.g., air traffic control). Helps identify delay sources.\n",
        "- **SECURITY_DELAY**: Delay due to security-related issues. Provides context for specific delay causes.\n",
        "- **AIRLINE_DELAY**: Delay attributed to airline issues (e.g., crew or maintenance).\n",
        "- **LATE_AIRCRAFT_DELAY**: Delay due to late arrival of the aircraft from a previous flight. Indicates delays carried over from prior flights.\n",
        "- **WEATHER_DELAY**: Delay due to weather-related issues. Allows analysis of weather impact on flight schedules.\n"
      ],
      "metadata": {
        "id": "iNsOji4KxZub"
      }
    },
    {
      "cell_type": "markdown",
      "source": [
        "**Setting Up PySpark Session and Exploring the Dataset**"
      ],
      "metadata": {
        "id": "DYrhUysgH6lf"
      }
    },
    {
      "cell_type": "markdown",
      "source": [
        "Initializes a Spark session, loads a CSV dataset of flight information into a DataFrame, and repartitions the data into 8 partitions to optimize it for distributed processing in a cluster environment."
      ],
      "metadata": {
        "id": "y8N0zkUA11bj"
      }
    },
    {
      "cell_type": "code",
      "execution_count": 2,
      "metadata": {
        "id": "16uymQHjFusY"
      },
      "outputs": [],
      "source": [
        "from pyspark.sql import SparkSession\n",
        "\n",
        "# Initialize Spark Session\n",
        "spark = SparkSession.builder \\\n",
        "    .appName(\"Airline Delay Analysis\") \\\n",
        "    .getOrCreate()\n",
        "\n",
        "# Load the dataset\n",
        "file_path = \"/content/flights.csv\"\n",
        "df = spark.read.csv(file_path, header=True, inferSchema=True)\n",
        "\n",
        "# Repartition the DataFrame for distributed processing\n",
        "df = df.repartition(8)"
      ]
    },
    {
      "cell_type": "code",
      "source": [
        "# Show the schema of the DataFrame\n",
        "df.printSchema()"
      ],
      "metadata": {
        "colab": {
          "base_uri": "https://localhost:8080/"
        },
        "id": "6ANsPQHGHPGr",
        "outputId": "48f864e0-e930-4a04-e44f-815cca056da5"
      },
      "execution_count": 3,
      "outputs": [
        {
          "output_type": "stream",
          "name": "stdout",
          "text": [
            "root\n",
            " |-- _c0: integer (nullable = true)\n",
            " |-- Unnamed: 0: integer (nullable = true)\n",
            " |-- Unnamed: 0.1: integer (nullable = true)\n",
            " |-- YEAR: integer (nullable = true)\n",
            " |-- MONTH: integer (nullable = true)\n",
            " |-- DAY: integer (nullable = true)\n",
            " |-- DAY_OF_WEEK: integer (nullable = true)\n",
            " |-- AIRLINE: string (nullable = true)\n",
            " |-- FLIGHT_NUMBER: integer (nullable = true)\n",
            " |-- TAIL_NUMBER: string (nullable = true)\n",
            " |-- ORIGIN_AIRPORT: string (nullable = true)\n",
            " |-- DESTINATION_AIRPORT: string (nullable = true)\n",
            " |-- SCHEDULED_DEPARTURE: integer (nullable = true)\n",
            " |-- DEPARTURE_TIME: double (nullable = true)\n",
            " |-- DEPARTURE_DELAY: double (nullable = true)\n",
            " |-- TAXI_OUT: double (nullable = true)\n",
            " |-- WHEELS_OFF: double (nullable = true)\n",
            " |-- SCHEDULED_TIME: double (nullable = true)\n",
            " |-- ELAPSED_TIME: double (nullable = true)\n",
            " |-- AIR_TIME: double (nullable = true)\n",
            " |-- DISTANCE: integer (nullable = true)\n",
            " |-- WHEELS_ON: double (nullable = true)\n",
            " |-- TAXI_IN: double (nullable = true)\n",
            " |-- SCHEDULED_ARRIVAL: integer (nullable = true)\n",
            " |-- ARRIVAL_TIME: double (nullable = true)\n",
            " |-- ARRIVAL_DELAY: double (nullable = true)\n",
            " |-- DIVERTED: integer (nullable = true)\n",
            " |-- CANCELLED: integer (nullable = true)\n",
            " |-- CANCELLATION_REASON: string (nullable = true)\n",
            " |-- AIR_SYSTEM_DELAY: double (nullable = true)\n",
            " |-- SECURITY_DELAY: double (nullable = true)\n",
            " |-- AIRLINE_DELAY: double (nullable = true)\n",
            " |-- LATE_AIRCRAFT_DELAY: double (nullable = true)\n",
            " |-- WEATHER_DELAY: double (nullable = true)\n",
            "\n"
          ]
        }
      ]
    },
    {
      "cell_type": "markdown",
      "source": [
        "OBSERVATION: The schema shows a mix of numerical and string columns describing various flight details, including scheduling, delays, and cancellations. Key delay metrics, such as DEPARTURE_DELAY and ARRIVAL_DELAY, are stored as doubles, while categorical data like AIRLINE and CANCELLATION_REASON are represented as strings."
      ],
      "metadata": {
        "id": "O-WxvL3L2DuV"
      }
    },
    {
      "cell_type": "code",
      "source": [
        "# Display the first 10 rows of the DataFrame\n",
        "df.show(10)"
      ],
      "metadata": {
        "colab": {
          "base_uri": "https://localhost:8080/"
        },
        "id": "yjPEuCCZIGXv",
        "outputId": "55365734-2e76-4e05-d631-18ef62231118"
      },
      "execution_count": 4,
      "outputs": [
        {
          "output_type": "stream",
          "name": "stdout",
          "text": [
            "+------+----------+------------+----+-----+---+-----------+-------+-------------+-----------+--------------+-------------------+-------------------+--------------+---------------+--------+----------+--------------+------------+--------+--------+---------+-------+-----------------+------------+-------------+--------+---------+-------------------+----------------+--------------+-------------+-------------------+-------------+\n",
            "|   _c0|Unnamed: 0|Unnamed: 0.1|YEAR|MONTH|DAY|DAY_OF_WEEK|AIRLINE|FLIGHT_NUMBER|TAIL_NUMBER|ORIGIN_AIRPORT|DESTINATION_AIRPORT|SCHEDULED_DEPARTURE|DEPARTURE_TIME|DEPARTURE_DELAY|TAXI_OUT|WHEELS_OFF|SCHEDULED_TIME|ELAPSED_TIME|AIR_TIME|DISTANCE|WHEELS_ON|TAXI_IN|SCHEDULED_ARRIVAL|ARRIVAL_TIME|ARRIVAL_DELAY|DIVERTED|CANCELLED|CANCELLATION_REASON|AIR_SYSTEM_DELAY|SECURITY_DELAY|AIRLINE_DELAY|LATE_AIRCRAFT_DELAY|WEATHER_DELAY|\n",
            "+------+----------+------------+----+-----+---+-----------+-------+-------------+-----------+--------------+-------------------+-------------------+--------------+---------------+--------+----------+--------------+------------+--------+--------+---------+-------+-----------------+------------+-------------+--------+---------+-------------------+----------------+--------------+-------------+-------------------+-------------+\n",
            "|134806|    177377|     5247576|2015|   11| 24|          2|     WN|          366|     N782SA|           LAS|                SLC|               1950|        2004.0|           14.0|    13.0|    2017.0|          75.0|        68.0|    52.0|     368|   2209.0|    3.0|             2205|      2212.0|          7.0|       0|        0|               NULL|            NULL|          NULL|         NULL|               NULL|         NULL|\n",
            "| 33176|    558560|     2844126|2015|    6| 28|          7|     MQ|         3162|     N942MQ|           DFW|                BHM|               1015|        1014.0|           -1.0|    14.0|    1028.0|         109.0|        99.0|    83.0|     597|   1151.0|    2.0|             1204|      1153.0|        -11.0|       0|        0|               NULL|            NULL|          NULL|         NULL|               NULL|         NULL|\n",
            "| 88738|    491722|     1063949|2015|    3| 11|          3|     WN|          574|     N492WN|           PHX|                CMH|                905|         901.0|           -4.0|    17.0|     918.0|         225.0|       227.0|   205.0|    1670|   1543.0|    5.0|             1550|      1548.0|         -2.0|       0|        0|               NULL|            NULL|          NULL|         NULL|               NULL|         NULL|\n",
            "|  8005|    107110|     4017148|2015|    9|  7|          1|     EV|         6153|     N13995|           LNK|                ORD|               1126|        1116.0|          -10.0|    15.0|    1131.0|          97.0|       101.0|    70.0|     466|   1241.0|   16.0|             1303|      1257.0|         -6.0|       0|        0|               NULL|            NULL|          NULL|         NULL|               NULL|         NULL|\n",
            "| 54235|    426933|     1937598|2015|    5|  4|          1|     US|          577|     N920US|           PHL|                LAS|                750|         745.0|           -5.0|    25.0|     810.0|         331.0|       317.0|   280.0|    2176|    950.0|   12.0|             1021|      1002.0|        -19.0|       0|        0|               NULL|            NULL|          NULL|         NULL|               NULL|         NULL|\n",
            "|118432|    175770|     1180859|2015|    3| 18|          3|     MQ|         3456|     N535MQ|           ORD|                DSM|               1125|        1139.0|           14.0|    17.0|    1156.0|          74.0|        68.0|    48.0|     299|   1244.0|    3.0|             1239|      1247.0|          8.0|       0|        0|               NULL|            NULL|          NULL|         NULL|               NULL|         NULL|\n",
            "| 67009|    391863|     2059609|2015|    5| 11|          1|     UA|         1748|     N27239|           AUS|                DEN|               1657|        1703.0|            6.0|    11.0|    1714.0|         138.0|       126.0|   106.0|     775|   1800.0|    9.0|             1815|      1809.0|         -6.0|       0|        0|               NULL|            NULL|          NULL|         NULL|               NULL|         NULL|\n",
            "|159576|    494128|     2059543|2015|    5| 11|          1|     AA|         1535|     N454AA|           DFW|                MCI|               1655|        1650.0|           -5.0|    12.0|    1702.0|          98.0|        83.0|    68.0|     460|   1810.0|    3.0|             1833|      1813.0|        -20.0|       0|        0|               NULL|            NULL|          NULL|         NULL|               NULL|         NULL|\n",
            "|107882|    471244|     1872361|2015|    4| 30|          4|     UA|         1086|     N12216|           DEN|                IAH|                600|         557.0|           -3.0|    14.0|     611.0|         142.0|       135.0|   113.0|     862|    904.0|    8.0|              922|       912.0|        -10.0|       0|        0|               NULL|            NULL|          NULL|         NULL|               NULL|         NULL|\n",
            "| 95737|    691025|     1698279|2015|    4| 19|          7|     OO|         4727|     N613QX|           SEA|                SJC|               1050|        1049.0|           -1.0|    28.0|    1117.0|         123.0|       129.0|    98.0|     697|   1255.0|    3.0|             1253|      1258.0|          5.0|       0|        0|               NULL|            NULL|          NULL|         NULL|               NULL|         NULL|\n",
            "+------+----------+------------+----+-----+---+-----------+-------+-------------+-----------+--------------+-------------------+-------------------+--------------+---------------+--------+----------+--------------+------------+--------+--------+---------+-------+-----------------+------------+-------------+--------+---------+-------------------+----------------+--------------+-------------+-------------------+-------------+\n",
            "only showing top 10 rows\n",
            "\n"
          ]
        }
      ]
    },
    {
      "cell_type": "code",
      "source": [
        "# Count total rows in the DataFrame\n",
        "row_count = df.count()\n",
        "print(f\"Total Rows: {row_count}\")"
      ],
      "metadata": {
        "colab": {
          "base_uri": "https://localhost:8080/"
        },
        "id": "HZo-QNcDII-5",
        "outputId": "f39c0514-bf07-4044-e43b-07d287240dd0"
      },
      "execution_count": 5,
      "outputs": [
        {
          "output_type": "stream",
          "name": "stdout",
          "text": [
            "Total Rows: 274964\n"
          ]
        }
      ]
    },
    {
      "cell_type": "code",
      "source": [
        "# Print the column names to inspect if there are any unnecessary columns\n",
        "print(df.columns)"
      ],
      "metadata": {
        "colab": {
          "base_uri": "https://localhost:8080/"
        },
        "id": "HkTpuU0tISGI",
        "outputId": "5d0ea906-bbdb-4b36-ed04-a926014d8c0e"
      },
      "execution_count": 6,
      "outputs": [
        {
          "output_type": "stream",
          "name": "stdout",
          "text": [
            "['_c0', 'Unnamed: 0', 'Unnamed: 0.1', 'YEAR', 'MONTH', 'DAY', 'DAY_OF_WEEK', 'AIRLINE', 'FLIGHT_NUMBER', 'TAIL_NUMBER', 'ORIGIN_AIRPORT', 'DESTINATION_AIRPORT', 'SCHEDULED_DEPARTURE', 'DEPARTURE_TIME', 'DEPARTURE_DELAY', 'TAXI_OUT', 'WHEELS_OFF', 'SCHEDULED_TIME', 'ELAPSED_TIME', 'AIR_TIME', 'DISTANCE', 'WHEELS_ON', 'TAXI_IN', 'SCHEDULED_ARRIVAL', 'ARRIVAL_TIME', 'ARRIVAL_DELAY', 'DIVERTED', 'CANCELLED', 'CANCELLATION_REASON', 'AIR_SYSTEM_DELAY', 'SECURITY_DELAY', 'AIRLINE_DELAY', 'LATE_AIRCRAFT_DELAY', 'WEATHER_DELAY']\n"
          ]
        }
      ]
    },
    {
      "cell_type": "code",
      "source": [
        "# Drop unnecessary columns\n",
        "df = df.drop('_c0', \"Unnamed: 0\", \"Unnamed: 0.1\")"
      ],
      "metadata": {
        "id": "byKGuYtrInUR"
      },
      "execution_count": 7,
      "outputs": []
    },
    {
      "cell_type": "code",
      "source": [
        "print(df.columns)"
      ],
      "metadata": {
        "colab": {
          "base_uri": "https://localhost:8080/"
        },
        "id": "6IU72pERK6Kl",
        "outputId": "45b88f5c-d3ac-4c58-df3c-39bb1baed866"
      },
      "execution_count": 8,
      "outputs": [
        {
          "output_type": "stream",
          "name": "stdout",
          "text": [
            "['YEAR', 'MONTH', 'DAY', 'DAY_OF_WEEK', 'AIRLINE', 'FLIGHT_NUMBER', 'TAIL_NUMBER', 'ORIGIN_AIRPORT', 'DESTINATION_AIRPORT', 'SCHEDULED_DEPARTURE', 'DEPARTURE_TIME', 'DEPARTURE_DELAY', 'TAXI_OUT', 'WHEELS_OFF', 'SCHEDULED_TIME', 'ELAPSED_TIME', 'AIR_TIME', 'DISTANCE', 'WHEELS_ON', 'TAXI_IN', 'SCHEDULED_ARRIVAL', 'ARRIVAL_TIME', 'ARRIVAL_DELAY', 'DIVERTED', 'CANCELLED', 'CANCELLATION_REASON', 'AIR_SYSTEM_DELAY', 'SECURITY_DELAY', 'AIRLINE_DELAY', 'LATE_AIRCRAFT_DELAY', 'WEATHER_DELAY']\n"
          ]
        }
      ]
    },
    {
      "cell_type": "code",
      "source": [
        "# Summary statistics for numerical columns\n",
        "df.describe().show()"
      ],
      "metadata": {
        "colab": {
          "base_uri": "https://localhost:8080/"
        },
        "id": "YS4UIgH3I5Nu",
        "outputId": "34851e1c-83ef-4c69-bbcc-17ac92446a97"
      },
      "execution_count": 9,
      "outputs": [
        {
          "output_type": "stream",
          "name": "stdout",
          "text": [
            "+-------+------+-----------------+------------------+------------------+-------+------------------+-----------+--------------+-------------------+-------------------+------------------+-----------------+------------------+------------------+------------------+-----------------+-----------------+-----------------+------------------+------------------+------------------+------------------+------------------+--------------------+--------------------+-------------------+------------------+-------------------+------------------+-------------------+------------------+\n",
            "|summary|  YEAR|            MONTH|               DAY|       DAY_OF_WEEK|AIRLINE|     FLIGHT_NUMBER|TAIL_NUMBER|ORIGIN_AIRPORT|DESTINATION_AIRPORT|SCHEDULED_DEPARTURE|    DEPARTURE_TIME|  DEPARTURE_DELAY|          TAXI_OUT|        WHEELS_OFF|    SCHEDULED_TIME|     ELAPSED_TIME|         AIR_TIME|         DISTANCE|         WHEELS_ON|           TAXI_IN| SCHEDULED_ARRIVAL|      ARRIVAL_TIME|     ARRIVAL_DELAY|            DIVERTED|           CANCELLED|CANCELLATION_REASON|  AIR_SYSTEM_DELAY|     SECURITY_DELAY|     AIRLINE_DELAY|LATE_AIRCRAFT_DELAY|     WEATHER_DELAY|\n",
            "+-------+------+-----------------+------------------+------------------+-------+------------------+-----------+--------------+-------------------+-------------------+------------------+-----------------+------------------+------------------+------------------+-----------------+-----------------+-----------------+------------------+------------------+------------------+------------------+------------------+--------------------+--------------------+-------------------+------------------+-------------------+------------------+-------------------+------------------+\n",
            "|  count|274964|           274964|            274964|            274964| 274964|            274964|     274225|        274964|             274964|             274964|            270719|           270719|            270571|            270571|            274964|           269773|           269773|           274964|            270377|            270377|            274964|            270377|            269773|              274964|              274964|               4433|             51863|              51863|             51863|              51863|             51863|\n",
            "|   mean|2015.0|6.207376238343929|15.667869248337965| 3.925081101526018|   NULL|2180.3641858570577|       NULL|          NULL|               NULL| 1331.0292110967255|1336.7688747372738|9.786749360037529|16.109305875352494|1358.5467954806686|141.51397273824938|136.9557146193281|113.4297131291864| 820.883893891564|1470.5817210783462|7.4301105493440645|1493.7165738060255|1475.6265695676777| 4.902332701938296|0.002756724516663...|0.016122110530833126|               NULL|13.457320247575343|0.09066193625513372|18.590787266451997|  23.73933247208993|3.1585909029558645|\n",
            "| stddev|   0.0|3.388097309989523| 8.767595857579758|1.9920911831091754|   NULL|1759.3609346830276|       NULL|          NULL|               NULL| 483.69719708842615| 496.9882566967008|37.63584166448588|  8.98102871262661|498.66483044362553| 75.15710965434312| 74.2311128933552|72.23714519190618|607.1827807256998| 524.0278335007963| 5.652435193042661|507.98796985683236| 528.1194052236741|39.780978548193744| 0.05243219416319106| 0.12594540790084544|               NULL|27.809042036507446|  2.198613136895266| 47.37537600843759|  42.77880871170361|22.569127582556376|\n",
            "|    min|  2015|                1|                 1|                 1|     AA|                 1|      7819A|           ABE|                ABE|                  1|               1.0|            -56.0|               1.0|               1.0|              18.0|             16.0|              8.0|               21|               1.0|               1.0|                 1|               1.0|             -87.0|                   0|                   0|                  A|               0.0|                0.0|               0.0|                0.0|               0.0|\n",
            "|    max|  2015|               12|                31|                 7|     WN|              7438|     N9EAMQ|           YUM|                YUM|               2359|            2400.0|           1461.0|             181.0|            2400.0|             718.0|            726.0|            683.0|             4983|            2400.0|             175.0|              2359|            2400.0|            1455.0|                   1|                   1|                  C|             791.0|              141.0|            1455.0|             1039.0|            1120.0|\n",
            "+-------+------+-----------------+------------------+------------------+-------+------------------+-----------+--------------+-------------------+-------------------+------------------+-----------------+------------------+------------------+------------------+-----------------+-----------------+-----------------+------------------+------------------+------------------+------------------+------------------+--------------------+--------------------+-------------------+------------------+-------------------+------------------+-------------------+------------------+\n",
            "\n"
          ]
        }
      ]
    },
    {
      "cell_type": "code",
      "source": [
        "from pyspark.sql.functions import col, isnan, when, count\n",
        "\n",
        "# Count null values for each column\n",
        "null_counts = df.select([count(when(col(c).isNull() | isnan(c), c)).alias(c) for c in df.columns])\n",
        "null_counts.show()"
      ],
      "metadata": {
        "colab": {
          "base_uri": "https://localhost:8080/"
        },
        "id": "oN6xr4qtI-e7",
        "outputId": "609da7b3-5df9-4ffb-811b-6ef651fee751"
      },
      "execution_count": 10,
      "outputs": [
        {
          "output_type": "stream",
          "name": "stdout",
          "text": [
            "+----+-----+---+-----------+-------+-------------+-----------+--------------+-------------------+-------------------+--------------+---------------+--------+----------+--------------+------------+--------+--------+---------+-------+-----------------+------------+-------------+--------+---------+-------------------+----------------+--------------+-------------+-------------------+-------------+\n",
            "|YEAR|MONTH|DAY|DAY_OF_WEEK|AIRLINE|FLIGHT_NUMBER|TAIL_NUMBER|ORIGIN_AIRPORT|DESTINATION_AIRPORT|SCHEDULED_DEPARTURE|DEPARTURE_TIME|DEPARTURE_DELAY|TAXI_OUT|WHEELS_OFF|SCHEDULED_TIME|ELAPSED_TIME|AIR_TIME|DISTANCE|WHEELS_ON|TAXI_IN|SCHEDULED_ARRIVAL|ARRIVAL_TIME|ARRIVAL_DELAY|DIVERTED|CANCELLED|CANCELLATION_REASON|AIR_SYSTEM_DELAY|SECURITY_DELAY|AIRLINE_DELAY|LATE_AIRCRAFT_DELAY|WEATHER_DELAY|\n",
            "+----+-----+---+-----------+-------+-------------+-----------+--------------+-------------------+-------------------+--------------+---------------+--------+----------+--------------+------------+--------+--------+---------+-------+-----------------+------------+-------------+--------+---------+-------------------+----------------+--------------+-------------+-------------------+-------------+\n",
            "|   0|    0|  0|          0|      0|            0|        739|             0|                  0|                  0|          4245|           4245|    4393|      4393|             0|        5191|    5191|       0|     4587|   4587|                0|        4587|         5191|       0|        0|             270531|          223101|        223101|       223101|             223101|       223101|\n",
            "+----+-----+---+-----------+-------+-------------+-----------+--------------+-------------------+-------------------+--------------+---------------+--------+----------+--------------+------------+--------+--------+---------+-------+-----------------+------------+-------------+--------+---------+-------------------+----------------+--------------+-------------+-------------------+-------------+\n",
            "\n"
          ]
        }
      ]
    },
    {
      "cell_type": "markdown",
      "source": [
        "**Data Cleaning**\n"
      ],
      "metadata": {
        "id": "fEzjkCqBJgzc"
      }
    },
    {
      "cell_type": "code",
      "source": [
        "from pyspark.sql.functions import col\n",
        "\n",
        "# List of numerical columns to check correlations with ARRIVAL_DELAY\n",
        "numeric_columns = [\"YEAR\", \"MONTH\", \"DAY\", \"DAY_OF_WEEK\", \"SCHEDULED_DEPARTURE\", \"DEPARTURE_TIME\",\n",
        "                   \"DEPARTURE_DELAY\", \"TAXI_OUT\", \"WHEELS_OFF\", \"SCHEDULED_TIME\", \"ELAPSED_TIME\",\n",
        "                   \"AIR_TIME\", \"DISTANCE\", \"WHEELS_ON\", \"TAXI_IN\", \"SCHEDULED_ARRIVAL\",\n",
        "                   \"ARRIVAL_TIME\", \"DIVERTED\", \"CANCELLED\", \"AIR_SYSTEM_DELAY\", \"SECURITY_DELAY\",\n",
        "                   \"AIRLINE_DELAY\", \"LATE_AIRCRAFT_DELAY\", \"WEATHER_DELAY\"]\n",
        "\n",
        "# Calculate correlation between each column and ARRIVAL_DELAY\n",
        "correlations = {}\n",
        "for col_name in numeric_columns:\n",
        "    try:\n",
        "        corr_value = df.stat.corr(col_name, \"ARRIVAL_DELAY\")\n",
        "        correlations[col_name] = corr_value\n",
        "        print(f\"Correlation between {col_name} and ARRIVAL_DELAY: {corr_value}\")\n",
        "    except Exception as e:\n",
        "        print(f\"Could not calculate correlation for {col_name}: {e}\")"
      ],
      "metadata": {
        "colab": {
          "base_uri": "https://localhost:8080/"
        },
        "id": "sBPoHAoaLlqJ",
        "outputId": "585a936a-95ac-49b8-85f4-3bd2717aadbe"
      },
      "execution_count": 11,
      "outputs": [
        {
          "output_type": "stream",
          "name": "stdout",
          "text": [
            "Correlation between YEAR and ARRIVAL_DELAY: nan\n",
            "Correlation between MONTH and ARRIVAL_DELAY: -0.024352777108796363\n",
            "Correlation between DAY and ARRIVAL_DELAY: -0.0033400355298126533\n",
            "Correlation between DAY_OF_WEEK and ARRIVAL_DELAY: -0.017470282884143266\n",
            "Correlation between SCHEDULED_DEPARTURE and ARRIVAL_DELAY: 0.10616476102667712\n",
            "Correlation between DEPARTURE_TIME and ARRIVAL_DELAY: 0.15680305901898187\n",
            "Correlation between DEPARTURE_DELAY and ARRIVAL_DELAY: 0.9370647138497326\n",
            "Correlation between TAXI_OUT and ARRIVAL_DELAY: 0.22849915911073318\n",
            "Correlation between WHEELS_OFF and ARRIVAL_DELAY: 0.1532253390309954\n",
            "Correlation between SCHEDULED_TIME and ARRIVAL_DELAY: -0.02643395889814051\n",
            "Correlation between ELAPSED_TIME and ARRIVAL_DELAY: 0.035507434779997384\n",
            "Correlation between AIR_TIME and ARRIVAL_DELAY: -0.000651405340185179\n",
            "Correlation between DISTANCE and ARRIVAL_DELAY: -0.0218286170695651\n",
            "Correlation between WHEELS_ON and ARRIVAL_DELAY: 0.05701415185173219\n",
            "Correlation between TAXI_IN and ARRIVAL_DELAY: 0.11333694767256981\n",
            "Correlation between SCHEDULED_ARRIVAL and ARRIVAL_DELAY: 0.09243291656363178\n",
            "Correlation between ARRIVAL_TIME and ARRIVAL_DELAY: 0.04792273106765462\n",
            "Correlation between DIVERTED and ARRIVAL_DELAY: -0.006416871247717545\n",
            "Correlation between CANCELLED and ARRIVAL_DELAY: -0.015623111996214994\n",
            "Correlation between AIR_SYSTEM_DELAY and ARRIVAL_DELAY: 0.42213426168013574\n",
            "Correlation between SECURITY_DELAY and ARRIVAL_DELAY: 0.029941647022656847\n",
            "Correlation between AIRLINE_DELAY and ARRIVAL_DELAY: 0.6194307090537845\n",
            "Correlation between LATE_AIRCRAFT_DELAY and ARRIVAL_DELAY: 0.6246063281333988\n",
            "Correlation between WEATHER_DELAY and ARRIVAL_DELAY: 0.29670600796193336\n"
          ]
        }
      ]
    },
    {
      "cell_type": "code",
      "source": [
        "# Define columns to drop based on low correlation with ARRIVAL_DELAY\n",
        "low_correlation_columns = [\"YEAR\", \"MONTH\", \"DAY\", \"DAY_OF_WEEK\", \"SCHEDULED_TIME\",\n",
        "                           \"ELAPSED_TIME\", \"AIR_TIME\", \"DISTANCE\", \"SCHEDULED_ARRIVAL\",\n",
        "                           \"ARRIVAL_TIME\", \"DIVERTED\", \"CANCELLED\", \"CANCELLATION_REASON\"]\n",
        "\n",
        "# Drop low-correlation columns\n",
        "df = df.drop(*low_correlation_columns)\n",
        "\n",
        "# Verify remaining columns\n",
        "print(\"Remaining Columns:\", df.columns)"
      ],
      "metadata": {
        "colab": {
          "base_uri": "https://localhost:8080/"
        },
        "id": "FYhzi5oGL_Ul",
        "outputId": "15b546d5-85b6-49dd-9652-325848868a1e"
      },
      "execution_count": 12,
      "outputs": [
        {
          "output_type": "stream",
          "name": "stdout",
          "text": [
            "Remaining Columns: ['AIRLINE', 'FLIGHT_NUMBER', 'TAIL_NUMBER', 'ORIGIN_AIRPORT', 'DESTINATION_AIRPORT', 'SCHEDULED_DEPARTURE', 'DEPARTURE_TIME', 'DEPARTURE_DELAY', 'TAXI_OUT', 'WHEELS_OFF', 'WHEELS_ON', 'TAXI_IN', 'ARRIVAL_DELAY', 'AIR_SYSTEM_DELAY', 'SECURITY_DELAY', 'AIRLINE_DELAY', 'LATE_AIRCRAFT_DELAY', 'WEATHER_DELAY']\n"
          ]
        }
      ]
    },
    {
      "cell_type": "markdown",
      "source": [
        "OBSERVATION: The correlation analysis reveals that certain features, such as DEPARTURE_DELAY, TAXI_OUT, AIR_SYSTEM_DELAY, AIRLINE_DELAY, LATE_AIRCRAFT_DELAY, and WEATHER_DELAY, have moderate to strong correlations with ARRIVAL_DELAY. Low-correlation columns are removed to streamline the dataset, keeping only features more likely to impact arrival delay predictions."
      ],
      "metadata": {
        "id": "BuGca5L17BY-"
      }
    },
    {
      "cell_type": "code",
      "source": [
        "from pyspark.sql.functions import col, mean\n",
        "\n",
        "# Check for missing values\n",
        "df.select([col(c).isNull().cast(\"int\").alias(c) for c in df.columns]).summary(\"count\", \"mean\").show()\n",
        "\n",
        "# Drop rows with missing values in essential columns for delay prediction\n",
        "df = df.dropna(subset=[\"DEPARTURE_DELAY\", \"ARRIVAL_DELAY\"])\n",
        "\n",
        "# Alternatively, you can fill missing values in certain columns if they are not critical\n",
        "df = df.fillna({\"AIR_SYSTEM_DELAY\": 0, \"SECURITY_DELAY\": 0, \"AIRLINE_DELAY\": 0,\n",
        "                \"LATE_AIRCRAFT_DELAY\": 0, \"WEATHER_DELAY\": 0, \"TAXI_OUT\": 0, \"TAXI_IN\": 0})"
      ],
      "metadata": {
        "colab": {
          "base_uri": "https://localhost:8080/"
        },
        "id": "7MNo1dxfOu_L",
        "outputId": "561fb65e-2538-4bf1-eeeb-8ef1e165be38"
      },
      "execution_count": 13,
      "outputs": [
        {
          "output_type": "stream",
          "name": "stdout",
          "text": [
            "+-------+-------+-------------+--------------------+--------------+-------------------+-------------------+--------------------+--------------------+-------------------+-------------------+-------------------+-------------------+--------------------+------------------+------------------+------------------+-------------------+------------------+\n",
            "|summary|AIRLINE|FLIGHT_NUMBER|         TAIL_NUMBER|ORIGIN_AIRPORT|DESTINATION_AIRPORT|SCHEDULED_DEPARTURE|      DEPARTURE_TIME|     DEPARTURE_DELAY|           TAXI_OUT|         WHEELS_OFF|          WHEELS_ON|            TAXI_IN|       ARRIVAL_DELAY|  AIR_SYSTEM_DELAY|    SECURITY_DELAY|     AIRLINE_DELAY|LATE_AIRCRAFT_DELAY|     WEATHER_DELAY|\n",
            "+-------+-------+-------------+--------------------+--------------+-------------------+-------------------+--------------------+--------------------+-------------------+-------------------+-------------------+-------------------+--------------------+------------------+------------------+------------------+-------------------+------------------+\n",
            "|  count| 274964|       274964|              274964|        274964|             274964|             274964|              274964|              274964|             274964|             274964|             274964|             274964|              274964|            274964|            274964|            274964|             274964|            274964|\n",
            "|   mean|    0.0|          0.0|0.002687624561760...|           0.0|                0.0|                0.0|0.015438384661264747|0.015438384661264747|0.01597663694156326|0.01597663694156326|0.01668218384952212|0.01668218384952212|0.018878835047497128|0.8113825809924208|0.8113825809924208|0.8113825809924208| 0.8113825809924208|0.8113825809924208|\n",
            "+-------+-------+-------------+--------------------+--------------+-------------------+-------------------+--------------------+--------------------+-------------------+-------------------+-------------------+-------------------+--------------------+------------------+------------------+------------------+-------------------+------------------+\n",
            "\n"
          ]
        }
      ]
    },
    {
      "cell_type": "code",
      "source": [
        "# Drop duplicate rows based on all columns\n",
        "df = df.dropDuplicates()"
      ],
      "metadata": {
        "id": "x-Efo-icOwA4"
      },
      "execution_count": 14,
      "outputs": []
    },
    {
      "cell_type": "code",
      "source": [
        "# Convert columns to the appropriate types (e.g., integers or doubles)\n",
        "from pyspark.sql.types import IntegerType, DoubleType\n",
        "\n",
        "df = df.withColumn(\"FLIGHT_NUMBER\", col(\"FLIGHT_NUMBER\").cast(IntegerType())) \\\n",
        "       .withColumn(\"SCHEDULED_DEPARTURE\", col(\"SCHEDULED_DEPARTURE\").cast(IntegerType())) \\\n",
        "       .withColumn(\"DEPARTURE_TIME\", col(\"DEPARTURE_TIME\").cast(DoubleType())) \\\n",
        "       .withColumn(\"DEPARTURE_DELAY\", col(\"DEPARTURE_DELAY\").cast(DoubleType())) \\\n",
        "       .withColumn(\"TAXI_OUT\", col(\"TAXI_OUT\").cast(DoubleType())) \\\n",
        "       .withColumn(\"WHEELS_OFF\", col(\"WHEELS_OFF\").cast(DoubleType())) \\\n",
        "       .withColumn(\"WHEELS_ON\", col(\"WHEELS_ON\").cast(DoubleType())) \\\n",
        "       .withColumn(\"TAXI_IN\", col(\"TAXI_IN\").cast(DoubleType())) \\\n",
        "       .withColumn(\"ARRIVAL_DELAY\", col(\"ARRIVAL_DELAY\").cast(DoubleType())) \\\n",
        "       .withColumn(\"AIR_SYSTEM_DELAY\", col(\"AIR_SYSTEM_DELAY\").cast(DoubleType())) \\\n",
        "       .withColumn(\"SECURITY_DELAY\", col(\"SECURITY_DELAY\").cast(DoubleType())) \\\n",
        "       .withColumn(\"AIRLINE_DELAY\", col(\"AIRLINE_DELAY\").cast(DoubleType())) \\\n",
        "       .withColumn(\"LATE_AIRCRAFT_DELAY\", col(\"LATE_AIRCRAFT_DELAY\").cast(DoubleType())) \\\n",
        "       .withColumn(\"WEATHER_DELAY\", col(\"WEATHER_DELAY\").cast(DoubleType()))"
      ],
      "metadata": {
        "id": "LcZ9MPG5O9Br"
      },
      "execution_count": 15,
      "outputs": []
    },
    {
      "cell_type": "code",
      "source": [
        "# Filter out rows with invalid values\n",
        "df = df.filter((col(\"DEPARTURE_DELAY\") >= -15) &   # allowing some negative for early departure\n",
        "               (col(\"ARRIVAL_DELAY\") >= -15) &     # allowing some negative for early arrival\n",
        "               (col(\"TAXI_OUT\") >= 0) &\n",
        "               (col(\"TAXI_IN\") >= 0) &\n",
        "               (col(\"AIR_SYSTEM_DELAY\") >= 0) &\n",
        "               (col(\"SECURITY_DELAY\") >= 0) &\n",
        "               (col(\"AIRLINE_DELAY\") >= 0) &\n",
        "               (col(\"LATE_AIRCRAFT_DELAY\") >= 0) &\n",
        "               (col(\"WEATHER_DELAY\") >= 0))"
      ],
      "metadata": {
        "id": "Eb8-Di6kO_iC"
      },
      "execution_count": 16,
      "outputs": []
    },
    {
      "cell_type": "markdown",
      "source": [
        "This transformation helps to normalize feature values, which is essential for improving model performance and comparability across features."
      ],
      "metadata": {
        "id": "59-MIQ0Ht9ki"
      }
    },
    {
      "cell_type": "code",
      "source": [
        "from pyspark.ml.feature import MinMaxScaler, VectorAssembler\n",
        "\n",
        "# Assemble the columns that need to be scaled\n",
        "numeric_cols = [\"DEPARTURE_DELAY\", \"TAXI_OUT\", \"TAXI_IN\", \"AIR_SYSTEM_DELAY\",\n",
        "                \"SECURITY_DELAY\", \"AIRLINE_DELAY\", \"LATE_AIRCRAFT_DELAY\", \"WEATHER_DELAY\"]\n",
        "\n",
        "# Create a vector for these columns\n",
        "assembler = VectorAssembler(inputCols=numeric_cols, outputCol=\"features_unscaled\")\n",
        "df = assembler.transform(df)\n",
        "\n",
        "# Apply MinMaxScaler\n",
        "scaler = MinMaxScaler(inputCol=\"features_unscaled\", outputCol=\"features_scaled\")\n",
        "scaler_model = scaler.fit(df)\n",
        "df = scaler_model.transform(df)\n",
        "\n",
        "# Show transformed scaled features\n",
        "df.select(\"features_scaled\").show(10)"
      ],
      "metadata": {
        "colab": {
          "base_uri": "https://localhost:8080/"
        },
        "id": "krxPJ4DqPCm1",
        "outputId": "0185b109-f8a5-4b06-9566-d2f53cf7a343"
      },
      "execution_count": 17,
      "outputs": [
        {
          "output_type": "stream",
          "name": "stdout",
          "text": [
            "+--------------------+\n",
            "|     features_scaled|\n",
            "+--------------------+\n",
            "|(8,[0,1,2],[0.007...|\n",
            "|(8,[0,1,2],[0.009...|\n",
            "|[0.02371273712737...|\n",
            "|(8,[0,1,2],[0.018...|\n",
            "|(8,[0,1,2],[0.006...|\n",
            "|(8,[0,1,2],[0.006...|\n",
            "|(8,[0,1,2],[0.010...|\n",
            "|(8,[0,1,2],[0.008...|\n",
            "|[0.04403794037940...|\n",
            "|(8,[0,1,2],[0.011...|\n",
            "+--------------------+\n",
            "only showing top 10 rows\n",
            "\n"
          ]
        }
      ]
    },
    {
      "cell_type": "markdown",
      "source": [
        "The code creates a new column, IS_DELAYED, which labels flights as delayed (1) if ARRIVAL_DELAY is greater than 0, and on-time (0) otherwise. This binary classification provides a clear indicator of flight delays, useful for further analysis or predictive modeling."
      ],
      "metadata": {
        "id": "fqdQP-qLuKhv"
      }
    },
    {
      "cell_type": "code",
      "source": [
        "from pyspark.sql.functions import udf\n",
        "from pyspark.sql.types import IntegerType\n",
        "\n",
        "# Define a UDF to label flights as delayed or not\n",
        "def classify_delay(arrival_delay):\n",
        "    return 1 if arrival_delay > 0 else 0\n",
        "\n",
        "# Register the UDF\n",
        "classify_delay_udf = udf(classify_delay, IntegerType())\n",
        "\n",
        "# Create a new column 'IS_DELAYED' based on ARRIVAL_DELAY\n",
        "df = df.withColumn(\"IS_DELAYED\", classify_delay_udf(col(\"ARRIVAL_DELAY\")))"
      ],
      "metadata": {
        "id": "6RnFeflvPFBS"
      },
      "execution_count": 18,
      "outputs": []
    },
    {
      "cell_type": "code",
      "source": [
        "# Show the schema to verify transformations\n",
        "df.printSchema()\n",
        "\n",
        "# Display the first few rows to check the final data\n",
        "df.show(10)"
      ],
      "metadata": {
        "colab": {
          "base_uri": "https://localhost:8080/"
        },
        "id": "GGlZPG9iPMFE",
        "outputId": "bd1a6d20-0972-4bfb-81dd-e9c3fc075b10"
      },
      "execution_count": 19,
      "outputs": [
        {
          "output_type": "stream",
          "name": "stdout",
          "text": [
            "root\n",
            " |-- AIRLINE: string (nullable = true)\n",
            " |-- FLIGHT_NUMBER: integer (nullable = true)\n",
            " |-- TAIL_NUMBER: string (nullable = true)\n",
            " |-- ORIGIN_AIRPORT: string (nullable = true)\n",
            " |-- DESTINATION_AIRPORT: string (nullable = true)\n",
            " |-- SCHEDULED_DEPARTURE: integer (nullable = true)\n",
            " |-- DEPARTURE_TIME: double (nullable = true)\n",
            " |-- DEPARTURE_DELAY: double (nullable = true)\n",
            " |-- TAXI_OUT: double (nullable = false)\n",
            " |-- WHEELS_OFF: double (nullable = true)\n",
            " |-- WHEELS_ON: double (nullable = true)\n",
            " |-- TAXI_IN: double (nullable = false)\n",
            " |-- ARRIVAL_DELAY: double (nullable = true)\n",
            " |-- AIR_SYSTEM_DELAY: double (nullable = false)\n",
            " |-- SECURITY_DELAY: double (nullable = false)\n",
            " |-- AIRLINE_DELAY: double (nullable = false)\n",
            " |-- LATE_AIRCRAFT_DELAY: double (nullable = false)\n",
            " |-- WEATHER_DELAY: double (nullable = false)\n",
            " |-- features_unscaled: vector (nullable = true)\n",
            " |-- features_scaled: vector (nullable = true)\n",
            " |-- IS_DELAYED: integer (nullable = true)\n",
            "\n",
            "+-------+-------------+-----------+--------------+-------------------+-------------------+--------------+---------------+--------+----------+---------+-------+-------------+----------------+--------------+-------------+-------------------+-------------+--------------------+--------------------+----------+\n",
            "|AIRLINE|FLIGHT_NUMBER|TAIL_NUMBER|ORIGIN_AIRPORT|DESTINATION_AIRPORT|SCHEDULED_DEPARTURE|DEPARTURE_TIME|DEPARTURE_DELAY|TAXI_OUT|WHEELS_OFF|WHEELS_ON|TAXI_IN|ARRIVAL_DELAY|AIR_SYSTEM_DELAY|SECURITY_DELAY|AIRLINE_DELAY|LATE_AIRCRAFT_DELAY|WEATHER_DELAY|   features_unscaled|     features_scaled|IS_DELAYED|\n",
            "+-------+-------------+-----------+--------------+-------------------+-------------------+--------------+---------------+--------+----------+---------+-------+-------------+----------------+--------------+-------------+-------------------+-------------+--------------------+--------------------+----------+\n",
            "|     MQ|         3618|     N501MQ|           SAT|                ORD|               1544|        1540.0|           -4.0|    14.0|    1554.0|   1819.0|   11.0|         -4.0|             0.0|           0.0|          0.0|                0.0|          0.0|(8,[0,1,2],[-4.0,...|(8,[0,1,2],[0.007...|         0|\n",
            "|     EV|         3964|     N16981|           ORD|                MEM|               1250|        1249.0|           -1.0|    21.0|    1310.0|   1434.0|    6.0|         -3.0|             0.0|           0.0|          0.0|                0.0|          0.0|(8,[0,1,2],[-1.0,...|(8,[0,1,2],[0.009...|         0|\n",
            "|     EV|         4995|     N709EV|           GSO|                LGA|               1755|        1815.0|           20.0|    19.0|    1834.0|   1943.0|   16.0|         26.0|            25.0|           0.0|          1.0|                0.0|          0.0|[20.0,19.0,16.0,2...|[0.02371273712737...|         1|\n",
            "|     WN|           34|     N964WN|           DAL|                LAX|                950|        1002.0|           12.0|     8.0|    1010.0|   1057.0|    7.0|          4.0|             0.0|           0.0|          0.0|                0.0|          0.0|(8,[0,1,2],[12.0,...|(8,[0,1,2],[0.018...|         1|\n",
            "|     WN|         4712|     N463WN|           ROC|                MDW|                625|         619.0|           -6.0|    13.0|     632.0|    658.0|    4.0|         -8.0|             0.0|           0.0|          0.0|                0.0|          0.0|(8,[0,1,2],[-6.0,...|(8,[0,1,2],[0.006...|         0|\n",
            "|     EV|         5284|     N186PQ|           LNK|                ATL|                625|         620.0|           -5.0|     9.0|     629.0|    923.0|    7.0|        -15.0|             0.0|           0.0|          0.0|                0.0|          0.0|(8,[0,1,2],[-5.0,...|(8,[0,1,2],[0.006...|         0|\n",
            "|     OO|         2646|     N955SW|           ORD|                ICT|               1145|        1146.0|            1.0|    28.0|    1214.0|   1341.0|    3.0|          0.0|             0.0|           0.0|          0.0|                0.0|          0.0|(8,[0,1,2],[1.0,2...|(8,[0,1,2],[0.010...|         0|\n",
            "|     DL|         1479|     N959DN|           MSP|                STL|               1939|        1936.0|           -3.0|    21.0|    1957.0|   2059.0|    5.0|         -2.0|             0.0|           0.0|          0.0|                0.0|          0.0|(8,[0,1,2],[-3.0,...|(8,[0,1,2],[0.008...|         0|\n",
            "|     MQ|         3590|     N935MQ|           DFW|                AEX|               1650|        1740.0|           50.0|    13.0|    1753.0|   1843.0|    2.0|         52.0|             2.0|           0.0|         14.0|               36.0|          0.0|[50.0,13.0,2.0,2....|[0.04403794037940...|         1|\n",
            "|     AA|         1330|     N010AA|           DFW|                ELP|               1155|        1157.0|            2.0|    21.0|    1218.0|   1242.0|    9.0|          6.0|             0.0|           0.0|          0.0|                0.0|          0.0|(8,[0,1,2],[2.0,2...|(8,[0,1,2],[0.011...|         1|\n",
            "+-------+-------------+-----------+--------------+-------------------+-------------------+--------------+---------------+--------+----------+---------+-------+-------------+----------------+--------------+-------------+-------------------+-------------+--------------------+--------------------+----------+\n",
            "only showing top 10 rows\n",
            "\n"
          ]
        }
      ]
    },
    {
      "cell_type": "markdown",
      "source": [
        "**DATA ANALYSIS**"
      ],
      "metadata": {
        "id": "5u60IOV4ugLB"
      }
    },
    {
      "cell_type": "code",
      "source": [
        "# Register DataFrame as a temporary SQL view\n",
        "df.createOrReplaceTempView(\"flights\")"
      ],
      "metadata": {
        "id": "wq3RhsR2PN6O"
      },
      "execution_count": 20,
      "outputs": []
    },
    {
      "cell_type": "code",
      "source": [
        "# Mean and standard deviation for numerical columns\n",
        "spark.sql(\"\"\"\n",
        "SELECT\n",
        "    AVG(DEPARTURE_DELAY) AS avg_departure_delay,\n",
        "    AVG(ARRIVAL_DELAY) AS avg_arrival_delay,\n",
        "    STDDEV(DEPARTURE_DELAY) AS stddev_departure_delay,\n",
        "    STDDEV(ARRIVAL_DELAY) AS stddev_arrival_delay\n",
        "FROM flights\n",
        "\"\"\").show()"
      ],
      "metadata": {
        "colab": {
          "base_uri": "https://localhost:8080/"
        },
        "id": "dkV7MLMzQUaQ",
        "outputId": "cdc1411e-9bf5-464c-ab27-7d825eaf2e80"
      },
      "execution_count": 21,
      "outputs": [
        {
          "output_type": "stream",
          "name": "stdout",
          "text": [
            "+-------------------+------------------+----------------------+--------------------+\n",
            "|avg_departure_delay| avg_arrival_delay|stddev_departure_delay|stddev_arrival_delay|\n",
            "+-------------------+------------------+----------------------+--------------------+\n",
            "| 13.072311835343903|11.284832330338087|     40.76303959249026|   41.62034393677462|\n",
            "+-------------------+------------------+----------------------+--------------------+\n",
            "\n"
          ]
        }
      ]
    },
    {
      "cell_type": "code",
      "source": [
        "# Median for departure and arrival delays\n",
        "spark.sql(\"\"\"\n",
        "SELECT\n",
        "    percentile_approx(DEPARTURE_DELAY, 0.5) AS median_departure_delay,\n",
        "    percentile_approx(ARRIVAL_DELAY, 0.5) AS median_arrival_delay\n",
        "FROM flights\n",
        "\"\"\").show()"
      ],
      "metadata": {
        "colab": {
          "base_uri": "https://localhost:8080/"
        },
        "id": "JrKNyo-cQZTV",
        "outputId": "d14ed463-cbbe-446f-b521-94877db7cf9c"
      },
      "execution_count": 22,
      "outputs": [
        {
          "output_type": "stream",
          "name": "stdout",
          "text": [
            "+----------------------+--------------------+\n",
            "|median_departure_delay|median_arrival_delay|\n",
            "+----------------------+--------------------+\n",
            "|                   0.0|                -1.0|\n",
            "+----------------------+--------------------+\n",
            "\n"
          ]
        }
      ]
    },
    {
      "cell_type": "code",
      "source": [
        "# Average and maximum arrival delay by airline\n",
        "spark.sql(\"\"\"\n",
        "SELECT\n",
        "    AIRLINE,\n",
        "    AVG(ARRIVAL_DELAY) AS avg_arrival_delay,\n",
        "    MAX(ARRIVAL_DELAY) AS max_arrival_delay,\n",
        "    COUNT(*) AS total_flights\n",
        "FROM flights\n",
        "GROUP BY AIRLINE\n",
        "ORDER BY avg_arrival_delay DESC\n",
        "\"\"\").show()"
      ],
      "metadata": {
        "colab": {
          "base_uri": "https://localhost:8080/"
        },
        "id": "V9CtExDaQddj",
        "outputId": "0fe0a5d9-62a8-422b-dda6-9b159c198f94"
      },
      "execution_count": 23,
      "outputs": [
        {
          "output_type": "stream",
          "name": "stdout",
          "text": [
            "+-------+------------------+-----------------+-------------+\n",
            "|AIRLINE| avg_arrival_delay|max_arrival_delay|total_flights|\n",
            "+-------+------------------+-----------------+-------------+\n",
            "|     NK| 21.54233261339093|            674.0|         4630|\n",
            "|     F9| 19.15562276601595|            542.0|         3637|\n",
            "|     UA|15.848451018699414|            979.0|        17915|\n",
            "|     B6|15.823417520870759|            895.0|         9463|\n",
            "|     MQ|14.931113662456946|            910.0|        10452|\n",
            "|     EV|12.782062411477133|           1196.0|        21887|\n",
            "|     AA|12.258905299739357|           1455.0|        25322|\n",
            "|     VX|12.230547550432277|            350.0|         2429|\n",
            "|     OO|11.119839574523738|           1120.0|        22939|\n",
            "|     WN| 9.530597508875383|            530.0|        49857|\n",
            "|     US| 9.186473198225206|            502.0|         8339|\n",
            "|     DL|7.3241427174358815|           1189.0|        31699|\n",
            "|     AS| 5.590389732352481|            791.0|         6389|\n",
            "|     HA| 3.022727272727273|           1391.0|         3388|\n",
            "+-------+------------------+-----------------+-------------+\n",
            "\n"
          ]
        }
      ]
    },
    {
      "cell_type": "code",
      "source": [
        "# Extract the hour from the SCHEDULED_DEPARTURE column and calculate average delay by hour\n",
        "spark.sql(\"\"\"\n",
        "SELECT\n",
        "    FLOOR(SCHEDULED_DEPARTURE / 100) AS departure_hour,\n",
        "    AVG(ARRIVAL_DELAY) AS avg_arrival_delay\n",
        "FROM flights\n",
        "GROUP BY departure_hour\n",
        "ORDER BY departure_hour\n",
        "\"\"\").show()"
      ],
      "metadata": {
        "colab": {
          "base_uri": "https://localhost:8080/"
        },
        "id": "WH9NpOQAQlXV",
        "outputId": "13fdde80-06a7-4c77-c9a3-37d87c5dc168"
      },
      "execution_count": 24,
      "outputs": [
        {
          "output_type": "stream",
          "name": "stdout",
          "text": [
            "+--------------+------------------+\n",
            "|departure_hour| avg_arrival_delay|\n",
            "+--------------+------------------+\n",
            "|             0| 5.407114624505929|\n",
            "|             1| 9.732142857142858|\n",
            "|             2|              6.82|\n",
            "|             3|              14.8|\n",
            "|             4| 5.615384615384615|\n",
            "|             5| 2.133152842727049|\n",
            "|             6|3.3795167993238007|\n",
            "|             7| 5.283751878085426|\n",
            "|             8| 6.770144438741843|\n",
            "|             9|6.6803680981595095|\n",
            "|            10| 7.947241011035956|\n",
            "|            11|  8.36511983681795|\n",
            "|            12|10.160127805023034|\n",
            "|            13|11.692395491510915|\n",
            "|            14|12.926214518565637|\n",
            "|            15|13.753171694389625|\n",
            "|            16|14.989069306930693|\n",
            "|            17|16.887306917394223|\n",
            "|            18|18.398802489561174|\n",
            "|            19|17.445319198690466|\n",
            "+--------------+------------------+\n",
            "only showing top 20 rows\n",
            "\n"
          ]
        }
      ]
    },
    {
      "cell_type": "markdown",
      "source": [
        "**DATA INSIGHTS**"
      ],
      "metadata": {
        "id": "LSHkTbMz8yZv"
      }
    },
    {
      "cell_type": "markdown",
      "source": [
        "**Average Arrival Delay by Airline**:\n",
        "Visualizing average delays by airline helps identify carriers with more frequent delays. This insight can help passengers make informed choices and airlines address specific operational issues."
      ],
      "metadata": {
        "id": "bNCT-Bry82EV"
      }
    },
    {
      "cell_type": "code",
      "source": [
        "import matplotlib.pyplot as plt\n",
        "import seaborn as sns\n",
        "\n",
        "# Calculate average arrival delay by airline\n",
        "avg_delay_by_airline = df.groupBy(\"AIRLINE\").avg(\"ARRIVAL_DELAY\").orderBy(\"avg(ARRIVAL_DELAY)\", ascending=False).toPandas()\n",
        "\n",
        "# Plot with distinct colors\n",
        "plt.figure(figsize=(10, 6))\n",
        "colors = sns.color_palette(\"viridis\", len(avg_delay_by_airline))  # Use a color palette from seaborn\n",
        "plt.bar(avg_delay_by_airline[\"AIRLINE\"], avg_delay_by_airline[\"avg(ARRIVAL_DELAY)\"], color=colors)\n",
        "plt.xlabel(\"Airline\")\n",
        "plt.ylabel(\"Average Arrival Delay (minutes)\")\n",
        "plt.title(\"Average Arrival Delay by Airline\", fontsize=16)\n",
        "plt.xticks(rotation=45)\n",
        "plt.show()"
      ],
      "metadata": {
        "colab": {
          "base_uri": "https://localhost:8080/",
          "height": 579
        },
        "id": "FCWIyRln8adL",
        "outputId": "762e8d14-b09f-41f2-8b90-7dd26c111225"
      },
      "execution_count": 39,
      "outputs": [
        {
          "output_type": "display_data",
          "data": {
            "text/plain": [
              "<Figure size 1000x600 with 1 Axes>"
            ],
            "image/png": "[encoded data removed]"
          },
          "metadata": {}
        }
      ]
    },
    {
      "cell_type": "markdown",
      "source": [
        "**Arrival Delay Distribution**: This distribution helps identify if delays are generally minor or if there are many severe delays, offering insights into the overall punctuality of flights in the dataset."
      ],
      "metadata": {
        "id": "laHoAI2v9nqj"
      }
    },
    {
      "cell_type": "code",
      "source": [
        "# Convert ARRIVAL_DELAY to Pandas for plotting\n",
        "arrival_delay_data = df.select(\"ARRIVAL_DELAY\").toPandas()\n",
        "\n",
        "# Plot histogram with blue color\n",
        "plt.figure(figsize=(10, 6))\n",
        "plt.hist(arrival_delay_data[\"ARRIVAL_DELAY\"].dropna(), bins=50, color=\"purple\", edgecolor=\"black\")\n",
        "plt.xlabel(\"Arrival Delay (minutes)\")\n",
        "plt.ylabel(\"Frequency\")\n",
        "plt.title(\"Distribution of Arrival Delays\", fontsize=16)\n",
        "plt.show()"
      ],
      "metadata": {
        "colab": {
          "base_uri": "https://localhost:8080/",
          "height": 566
        },
        "id": "3xYiTCep9W7u",
        "outputId": "5d40c241-5755-453e-f79b-b0887a538770"
      },
      "execution_count": 46,
      "outputs": [
        {
          "output_type": "display_data",
          "data": {
            "text/plain": [
              "<Figure size 1000x600 with 1 Axes>"
            ],
            "image/png": "[encoded data removed]"
          },
          "metadata": {}
        }
      ]
    },
    {
      "cell_type": "markdown",
      "source": [
        "**MODEL BUILDING**"
      ],
      "metadata": {
        "id": "MupyaVoIulQ8"
      }
    },
    {
      "cell_type": "code",
      "source": [
        "# Split the dataset into 80% training and 20% testing\n",
        "train_data, test_data = df.randomSplit([0.8, 0.2], seed=42)"
      ],
      "metadata": {
        "id": "a8MHbHwwQ1Vb"
      },
      "execution_count": 25,
      "outputs": []
    },
    {
      "cell_type": "code",
      "source": [
        "from pyspark.ml.feature import VectorAssembler\n",
        "\n",
        "# Select the features to include in the model\n",
        "feature_columns = [\"DEPARTURE_DELAY\", \"TAXI_OUT\", \"TAXI_IN\", \"AIR_SYSTEM_DELAY\",\n",
        "                   \"SECURITY_DELAY\", \"AIRLINE_DELAY\", \"LATE_AIRCRAFT_DELAY\", \"WEATHER_DELAY\"]\n",
        "\n",
        "# Assemble the features into a single vector\n",
        "assembler = VectorAssembler(inputCols=feature_columns, outputCol=\"features\")"
      ],
      "metadata": {
        "id": "hSYF-wXFREBr"
      },
      "execution_count": 26,
      "outputs": []
    },
    {
      "cell_type": "code",
      "source": [
        "from pyspark.ml.classification import LogisticRegression\n",
        "\n",
        "# Initialize Logistic Regression model\n",
        "lr = LogisticRegression(featuresCol=\"features\", labelCol=\"IS_DELAYED\", predictionCol=\"prediction\")"
      ],
      "metadata": {
        "id": "uT5q7prFRGWq"
      },
      "execution_count": 27,
      "outputs": []
    },
    {
      "cell_type": "code",
      "source": [
        "from pyspark.ml import Pipeline\n",
        "\n",
        "# Create a pipeline with the assembler and classifier\n",
        "pipeline = Pipeline(stages=[assembler, lr])  # Use lr for Logistic Regression"
      ],
      "metadata": {
        "id": "8MQH0uSlRJQg"
      },
      "execution_count": 28,
      "outputs": []
    },
    {
      "cell_type": "code",
      "source": [
        "# Train the model on the training data\n",
        "model = pipeline.fit(train_data)"
      ],
      "metadata": {
        "id": "R-J-zuZIRNnl"
      },
      "execution_count": 29,
      "outputs": []
    },
    {
      "cell_type": "code",
      "source": [
        "# Make predictions on the test data\n",
        "predictions = model.transform(test_data)\n",
        "# Show a sample of predictions\n",
        "predictions.select(\"IS_DELAYED\", \"prediction\", \"probability\").show(10)"
      ],
      "metadata": {
        "colab": {
          "base_uri": "https://localhost:8080/"
        },
        "id": "O0cAXVp8RSyv",
        "outputId": "23de70b5-4c99-43cd-e225-8b103e31dd80"
      },
      "execution_count": 30,
      "outputs": [
        {
          "output_type": "stream",
          "name": "stdout",
          "text": [
            "+----------+----------+--------------------+\n",
            "|IS_DELAYED|prediction|         probability|\n",
            "+----------+----------+--------------------+\n",
            "|         1|       1.0|[0.07478206657707...|\n",
            "|         0|       0.0|[0.55826721412425...|\n",
            "|         1|       1.0|[1.01025014597051...|\n",
            "|         1|       1.0|           [0.0,1.0]|\n",
            "|         1|       0.0|[0.66263938594514...|\n",
            "|         0|       0.0|[0.85211012380413...|\n",
            "|         0|       0.0|[0.65409765050410...|\n",
            "|         1|       1.0|[6.61017224731448...|\n",
            "|         1|       1.0|[0.00163151487677...|\n",
            "|         1|       1.0|[0.43769254724334...|\n",
            "+----------+----------+--------------------+\n",
            "only showing top 10 rows\n",
            "\n"
          ]
        }
      ]
    },
    {
      "cell_type": "code",
      "source": [
        "from pyspark.ml.evaluation import MulticlassClassificationEvaluator\n",
        "\n",
        "# Initialize evaluators for accuracy and F1-score\n",
        "evaluator_accuracy = MulticlassClassificationEvaluator(labelCol=\"IS_DELAYED\", predictionCol=\"prediction\", metricName=\"accuracy\")\n",
        "evaluator_f1 = MulticlassClassificationEvaluator(labelCol=\"IS_DELAYED\", predictionCol=\"prediction\", metricName=\"f1\")\n",
        "\n",
        "# Calculate accuracy and F1-score\n",
        "accuracy = evaluator_accuracy.evaluate(predictions)\n",
        "f1_score = evaluator_f1.evaluate(predictions)\n",
        "\n",
        "print(f\"Model Accuracy: {accuracy}\")\n",
        "print(f\"Model F1 Score: {f1_score}\")"
      ],
      "metadata": {
        "colab": {
          "base_uri": "https://localhost:8080/"
        },
        "id": "L526z9unRf6P",
        "outputId": "e58d9a01-51d2-4142-bfcc-394835970078"
      },
      "execution_count": 31,
      "outputs": [
        {
          "output_type": "stream",
          "name": "stdout",
          "text": [
            "Model Accuracy: 0.8346065873741995\n",
            "Model F1 Score: 0.832438985087642\n"
          ]
        }
      ]
    },
    {
      "cell_type": "markdown",
      "source": [
        "OBSERVATION: The model achieved an accuracy of 83.4% and an F1 score of 83.2%, indicating strong performance in correctly classifying delayed and non-delayed flights. This balance between accuracy and F1 score suggests that the model handles both precision and recall effectively for this binary classification task."
      ],
      "metadata": {
        "id": "KklD4Y-Hvkzl"
      }
    },
    {
      "cell_type": "code",
      "source": [
        "from pyspark.ml.evaluation import MulticlassClassificationEvaluator\n",
        "from pyspark.sql.functions import col\n",
        "import matplotlib.pyplot as plt\n",
        "import seaborn as sns\n",
        "import pandas as pd\n",
        "\n",
        "# Create a confusion matrix by counting combinations of actual and predicted labels\n",
        "confusion_matrix = predictions.groupBy(\"IS_DELAYED\", \"prediction\").count().toPandas()\n",
        "\n",
        "# Pivot the confusion matrix for easy visualization\n",
        "confusion_matrix = confusion_matrix.pivot(index=\"IS_DELAYED\", columns=\"prediction\", values=\"count\").fillna(0)\n",
        "\n",
        "# Plot the confusion matrix\n",
        "plt.figure(figsize=(8, 6))\n",
        "sns.heatmap(confusion_matrix, annot=True, fmt=\"g\", cmap=\"Blues\", cbar=False)\n",
        "plt.xlabel(\"Predicted Label\")\n",
        "plt.ylabel(\"True Label\")\n",
        "plt.title(\"Confusion Matrix for Model\")\n",
        "plt.show()"
      ],
      "metadata": {
        "colab": {
          "base_uri": "https://localhost:8080/",
          "height": 564
        },
        "id": "As9TT-Dhwe-0",
        "outputId": "6e329f21-48eb-4fa1-e4cf-89aa8cfae0ad"
      },
      "execution_count": 34,
      "outputs": [
        {
          "output_type": "display_data",
          "data": {
            "text/plain": [
              "<Figure size 800x600 with 1 Axes>"
            ],
            "image/png": "[encoded data removed]"
          },
          "metadata": {}
        }
      ]
    },
    {
      "cell_type": "markdown",
      "source": [
        "**MODEL TUNING & EVALUATION**"
      ],
      "metadata": {
        "id": "LBWdPc3Tuvvw"
      }
    },
    {
      "cell_type": "code",
      "source": [
        "from pyspark.ml.tuning import ParamGridBuilder, CrossValidator\n",
        "\n",
        "# Create a parameter grid for tuning\n",
        "paramGrid = ParamGridBuilder() \\\n",
        "    .addGrid(lr.regParam, [0.01, 0.1, 1.0]) \\\n",
        "    .addGrid(lr.elasticNetParam, [0.0, 0.5, 1.0]) \\\n",
        "    .build()\n",
        "\n",
        "# Set up cross-validator\n",
        "crossval = CrossValidator(estimator=pipeline,\n",
        "                          estimatorParamMaps=paramGrid,\n",
        "                          evaluator=evaluator_f1,\n",
        "                          numFolds=3)  # 3-fold cross-validation\n",
        "\n",
        "# Run cross-validation, and choose the best set of parameters\n",
        "cv_model = crossval.fit(train_data)\n",
        "\n",
        "# Make predictions with the best model\n",
        "cv_predictions = cv_model.transform(test_data)\n",
        "\n",
        "# Evaluate the best model\n",
        "cv_accuracy = evaluator_accuracy.evaluate(cv_predictions)\n",
        "cv_f1_score = evaluator_f1.evaluate(cv_predictions)\n",
        "\n",
        "print(f\"Cross-Validated Model Accuracy: {cv_accuracy}\")\n",
        "print(f\"Cross-Validated Model F1 Score: {cv_f1_score}\")"
      ],
      "metadata": {
        "colab": {
          "base_uri": "https://localhost:8080/"
        },
        "id": "_i-a0FbfRlae",
        "outputId": "115f696f-5211-4602-d1be-8c01f95eb7bf"
      },
      "execution_count": 32,
      "outputs": [
        {
          "output_type": "stream",
          "name": "stdout",
          "text": [
            "Cross-Validated Model Accuracy: 0.8310612991765782\n",
            "Cross-Validated Model F1 Score: 0.8280853330783526\n"
          ]
        }
      ]
    },
    {
      "cell_type": "markdown",
      "source": [
        "CONCLUSION: After cross-validation and hyperparameter tuning, the model's accuracy slightly decreased to 82.95% (from 83.4%), and the F1 score decreased to 82.64% (from 83.2%). This suggests that the initial model was well-tuned, and additional tuning did not significantly improve performance; thus, the original model configuration might be preferred for simplicity."
      ],
      "metadata": {
        "id": "VNms_uA1wF_W"
      }
    }
  ]
}